{
 "cells": [
  {
   "cell_type": "markdown",
   "id": "b26e1c60-5661-4965-b299-fc1211bebe93",
   "metadata": {
    "id": "b26e1c60-5661-4965-b299-fc1211bebe93"
   },
   "source": [
    "# Working with data"
   ]
  },
  {
   "cell_type": "markdown",
   "id": "ee443168-0bb4-47b0-a292-3de37c16e6a9",
   "metadata": {
    "id": "ee443168-0bb4-47b0-a292-3de37c16e6a9"
   },
   "source": [
    "## Data analysis"
   ]
  },
  {
   "cell_type": "markdown",
   "id": "4d8eb4d0-83f4-4fe8-af7f-ec518e1bd4bc",
   "metadata": {
    "jp-MarkdownHeadingCollapsed": true
   },
   "source": [
    "### The following data are given"
   ]
  },
  {
   "cell_type": "markdown",
   "id": "nwBhZokHT5Pl",
   "metadata": {
    "id": "nwBhZokHT5Pl"
   },
   "source": [
    "-**Rk**: Rank of the player on the list.\\\n",
    "-**Player**: Name of the player.\\\n",
    "-**Pos**: Player's position (e.g., PF = Power Forward, C = Center, SG = Shooting Guard, etc.).\\\n",
    "-**Age**: Age of the player.\\\n",
    "-**Tm**: Team(s) the player played for (TOT indicates the combined stats for all teams).\\\n",
    "-**G**: Games played by the player.\\\n",
    "-**GS**: Games started by the player.\\\n",
    "-**MP**: Minutes played per game.\\\n",
    "-**FG**: Field goals made per game.\\\n",
    "-**FGA**: Field goals attempted per game.\\\n",
    "-**FG%**: Field goal percentage (FGM/FGA).\\\n",
    "-**3P**: Three-point field goals made per game.\\\n",
    "-**3PA**: Three-point field goals attempted per game.\\\n",
    "-**3P%**: Three-point field goal percentage (3PM/3PA).\\\n",
    "-**2P**: Two-point field goals made per game.\\\n",
    "-**2PA**: Two-point field goals attempted per game.\\\n",
    "-**2P%**: Two-point field goal percentage (2PM/2PA).\\\n",
    "-**eFG%**: Effective field goal percentage, which adjusts FG% to account for the fact that three-pointers are worth more than two-pointers.\\\n",
    "-**Formula**: (FG + 0.5 * 3P) / FGA.\\\n",
    "-**FT**: Free throws made per game.\\\n",
    "-**FTA**: Free throws attempted per game.\\\n",
    "-**FT%**: Free throw percentage (FTM/FTA).\\\n",
    "-**ORB**: Offensive rebounds per game.\\\n",
    "-**DRB**: Defensive rebounds per game.\\\n",
    "-**TRB**: Total rebounds per game (ORB + DRB).\\\n",
    "-**AST**: Assists per game.\\\n",
    "-**STL**: Steals per game.\\\n",
    "-**BLK**: Blocks per game.\\\n",
    "-**TOV**: Turnovers per game.\\\n",
    "-**PF**: Personal fouls per game.\\\n",
    "-**PTS**: Points scored per game."
   ]
  },
  {
   "cell_type": "code",
   "execution_count": 3,
   "id": "48dXyfeYUUZN",
   "metadata": {
    "id": "48dXyfeYUUZN"
   },
   "outputs": [],
   "source": [
    "import pandas as pd\n",
    "import matplotlib.pyplot as plt\n",
    "import numpy as np"
   ]
  },
  {
   "cell_type": "code",
   "execution_count": 4,
   "id": "05e6cf7c-d1eb-468b-ad5b-31a0899ca9b7",
   "metadata": {
    "colab": {
     "base_uri": "https://localhost:8080/",
     "height": 236
    },
    "executionInfo": {
     "elapsed": 19,
     "status": "ok",
     "timestamp": 1727353938178,
     "user": {
      "displayName": "Samvel Arakelyan",
      "userId": "03624221637319618173"
     },
     "user_tz": -240
    },
    "id": "05e6cf7c-d1eb-468b-ad5b-31a0899ca9b7",
    "outputId": "0d098fed-fa9b-4fc3-a668-c7543d35f7b2"
   },
   "outputs": [
    {
     "data": {
      "text/html": [
       "<div>\n",
       "<style scoped>\n",
       "    .dataframe tbody tr th:only-of-type {\n",
       "        vertical-align: middle;\n",
       "    }\n",
       "\n",
       "    .dataframe tbody tr th {\n",
       "        vertical-align: top;\n",
       "    }\n",
       "\n",
       "    .dataframe thead th {\n",
       "        text-align: right;\n",
       "    }\n",
       "</style>\n",
       "<table border=\"1\" class=\"dataframe\">\n",
       "  <thead>\n",
       "    <tr style=\"text-align: right;\">\n",
       "      <th></th>\n",
       "      <th>Rk</th>\n",
       "      <th>Player</th>\n",
       "      <th>Pos</th>\n",
       "      <th>Age</th>\n",
       "      <th>Tm</th>\n",
       "      <th>G</th>\n",
       "      <th>GS</th>\n",
       "      <th>MP</th>\n",
       "      <th>FG</th>\n",
       "      <th>FGA</th>\n",
       "      <th>...</th>\n",
       "      <th>FT%</th>\n",
       "      <th>ORB</th>\n",
       "      <th>DRB</th>\n",
       "      <th>TRB</th>\n",
       "      <th>AST</th>\n",
       "      <th>STL</th>\n",
       "      <th>BLK</th>\n",
       "      <th>TOV</th>\n",
       "      <th>PF</th>\n",
       "      <th>PTS</th>\n",
       "    </tr>\n",
       "  </thead>\n",
       "  <tbody>\n",
       "    <tr>\n",
       "      <th>0</th>\n",
       "      <td>1</td>\n",
       "      <td>Precious Achiuwa</td>\n",
       "      <td>PF-C</td>\n",
       "      <td>24</td>\n",
       "      <td>TOT</td>\n",
       "      <td>74</td>\n",
       "      <td>18</td>\n",
       "      <td>21.9</td>\n",
       "      <td>3.2</td>\n",
       "      <td>6.3</td>\n",
       "      <td>...</td>\n",
       "      <td>.616</td>\n",
       "      <td>2.6</td>\n",
       "      <td>4.0</td>\n",
       "      <td>6.6</td>\n",
       "      <td>1.3</td>\n",
       "      <td>0.6</td>\n",
       "      <td>0.9</td>\n",
       "      <td>1.1</td>\n",
       "      <td>1.9</td>\n",
       "      <td>7.6</td>\n",
       "    </tr>\n",
       "    <tr>\n",
       "      <th>1</th>\n",
       "      <td>1</td>\n",
       "      <td>Precious Achiuwa</td>\n",
       "      <td>C</td>\n",
       "      <td>24</td>\n",
       "      <td>TOR</td>\n",
       "      <td>25</td>\n",
       "      <td>0</td>\n",
       "      <td>17.5</td>\n",
       "      <td>3.1</td>\n",
       "      <td>6.8</td>\n",
       "      <td>...</td>\n",
       "      <td>.571</td>\n",
       "      <td>2.0</td>\n",
       "      <td>3.4</td>\n",
       "      <td>5.4</td>\n",
       "      <td>1.8</td>\n",
       "      <td>0.6</td>\n",
       "      <td>0.5</td>\n",
       "      <td>1.2</td>\n",
       "      <td>1.6</td>\n",
       "      <td>7.7</td>\n",
       "    </tr>\n",
       "    <tr>\n",
       "      <th>2</th>\n",
       "      <td>1</td>\n",
       "      <td>Precious Achiuwa</td>\n",
       "      <td>PF</td>\n",
       "      <td>24</td>\n",
       "      <td>NYK</td>\n",
       "      <td>49</td>\n",
       "      <td>18</td>\n",
       "      <td>24.2</td>\n",
       "      <td>3.2</td>\n",
       "      <td>6.1</td>\n",
       "      <td>...</td>\n",
       "      <td>.643</td>\n",
       "      <td>2.9</td>\n",
       "      <td>4.3</td>\n",
       "      <td>7.2</td>\n",
       "      <td>1.1</td>\n",
       "      <td>0.6</td>\n",
       "      <td>1.1</td>\n",
       "      <td>1.1</td>\n",
       "      <td>2.1</td>\n",
       "      <td>7.6</td>\n",
       "    </tr>\n",
       "    <tr>\n",
       "      <th>3</th>\n",
       "      <td>2</td>\n",
       "      <td>Bam Adebayo</td>\n",
       "      <td>C</td>\n",
       "      <td>26</td>\n",
       "      <td>MIA</td>\n",
       "      <td>71</td>\n",
       "      <td>71</td>\n",
       "      <td>34.0</td>\n",
       "      <td>7.5</td>\n",
       "      <td>14.3</td>\n",
       "      <td>...</td>\n",
       "      <td>.755</td>\n",
       "      <td>2.2</td>\n",
       "      <td>8.1</td>\n",
       "      <td>10.4</td>\n",
       "      <td>3.9</td>\n",
       "      <td>1.1</td>\n",
       "      <td>0.9</td>\n",
       "      <td>2.3</td>\n",
       "      <td>2.2</td>\n",
       "      <td>19.3</td>\n",
       "    </tr>\n",
       "    <tr>\n",
       "      <th>4</th>\n",
       "      <td>3</td>\n",
       "      <td>Ochai Agbaji</td>\n",
       "      <td>SG</td>\n",
       "      <td>23</td>\n",
       "      <td>TOT</td>\n",
       "      <td>78</td>\n",
       "      <td>28</td>\n",
       "      <td>21.0</td>\n",
       "      <td>2.3</td>\n",
       "      <td>5.6</td>\n",
       "      <td>...</td>\n",
       "      <td>.661</td>\n",
       "      <td>0.9</td>\n",
       "      <td>1.8</td>\n",
       "      <td>2.8</td>\n",
       "      <td>1.1</td>\n",
       "      <td>0.6</td>\n",
       "      <td>0.6</td>\n",
       "      <td>0.8</td>\n",
       "      <td>1.5</td>\n",
       "      <td>5.8</td>\n",
       "    </tr>\n",
       "  </tbody>\n",
       "</table>\n",
       "<p>5 rows × 30 columns</p>\n",
       "</div>"
      ],
      "text/plain": [
       "  Rk            Player   Pos Age   Tm   G  GS    MP   FG   FGA  ...   FT%  \\\n",
       "0  1  Precious Achiuwa  PF-C  24  TOT  74  18  21.9  3.2   6.3  ...  .616   \n",
       "1  1  Precious Achiuwa     C  24  TOR  25   0  17.5  3.1   6.8  ...  .571   \n",
       "2  1  Precious Achiuwa    PF  24  NYK  49  18  24.2  3.2   6.1  ...  .643   \n",
       "3  2       Bam Adebayo     C  26  MIA  71  71  34.0  7.5  14.3  ...  .755   \n",
       "4  3      Ochai Agbaji    SG  23  TOT  78  28  21.0  2.3   5.6  ...  .661   \n",
       "\n",
       "   ORB  DRB   TRB  AST  STL  BLK  TOV   PF   PTS  \n",
       "0  2.6  4.0   6.6  1.3  0.6  0.9  1.1  1.9   7.6  \n",
       "1  2.0  3.4   5.4  1.8  0.6  0.5  1.2  1.6   7.7  \n",
       "2  2.9  4.3   7.2  1.1  0.6  1.1  1.1  2.1   7.6  \n",
       "3  2.2  8.1  10.4  3.9  1.1  0.9  2.3  2.2  19.3  \n",
       "4  0.9  1.8   2.8  1.1  0.6  0.6  0.8  1.5   5.8  \n",
       "\n",
       "[5 rows x 30 columns]"
      ]
     },
     "execution_count": 4,
     "metadata": {},
     "output_type": "execute_result"
    }
   ],
   "source": [
    "df = pd.read_csv('nba-player.csv')\n",
    "df.head()"
   ]
  },
  {
   "cell_type": "markdown",
   "id": "888b09df-55c2-4ab6-a099-30a14b26dfe5",
   "metadata": {
    "id": "888b09df-55c2-4ab6-a099-30a14b26dfe5",
    "jp-MarkdownHeadingCollapsed": true
   },
   "source": [
    "### Changing types form object to int64, float64"
   ]
  },
  {
   "cell_type": "code",
   "execution_count": 5,
   "id": "23fd5faa-da49-4881-a40a-d35bb5538a90",
   "metadata": {
    "colab": {
     "base_uri": "https://localhost:8080/",
     "height": 1000
    },
    "executionInfo": {
     "elapsed": 15,
     "status": "ok",
     "timestamp": 1727353938179,
     "user": {
      "displayName": "Samvel Arakelyan",
      "userId": "03624221637319618173"
     },
     "user_tz": -240
    },
    "id": "23fd5faa-da49-4881-a40a-d35bb5538a90",
    "outputId": "8f1aef0a-c059-4188-e045-2b77d8e533f9",
    "scrolled": true
   },
   "outputs": [
    {
     "data": {
      "text/plain": [
       "Rk        object\n",
       "Player    object\n",
       "Pos       object\n",
       "Age       object\n",
       "Tm        object\n",
       "G         object\n",
       "GS        object\n",
       "MP        object\n",
       "FG        object\n",
       "FGA       object\n",
       "FG%       object\n",
       "3P        object\n",
       "3PA       object\n",
       "3P%       object\n",
       "2P        object\n",
       "2PA       object\n",
       "2P%       object\n",
       "eFG%      object\n",
       "FT        object\n",
       "FTA       object\n",
       "FT%       object\n",
       "ORB       object\n",
       "DRB       object\n",
       "TRB       object\n",
       "AST       object\n",
       "STL       object\n",
       "BLK       object\n",
       "TOV       object\n",
       "PF        object\n",
       "PTS       object\n",
       "dtype: object"
      ]
     },
     "execution_count": 5,
     "metadata": {},
     "output_type": "execute_result"
    }
   ],
   "source": [
    "df.dtypes"
   ]
  },
  {
   "cell_type": "code",
   "execution_count": 6,
   "id": "836e3755-0881-40c0-8210-d8d4a166c493",
   "metadata": {
    "colab": {
     "base_uri": "https://localhost:8080/",
     "height": 241
    },
    "executionInfo": {
     "elapsed": 348,
     "status": "ok",
     "timestamp": 1727353938514,
     "user": {
      "displayName": "Samvel Arakelyan",
      "userId": "03624221637319618173"
     },
     "user_tz": -240
    },
    "id": "836e3755-0881-40c0-8210-d8d4a166c493",
    "outputId": "beac5d33-1771-4bc2-d470-daf501741887"
   },
   "outputs": [
    {
     "data": {
      "text/plain": [
       "Rk            Rk\n",
       "Player    Player\n",
       "Pos          Pos\n",
       "Age          Age\n",
       "Tm            Tm\n",
       "Name: 28, dtype: object"
      ]
     },
     "execution_count": 6,
     "metadata": {},
     "output_type": "execute_result"
    }
   ],
   "source": [
    "df.iloc[28].head()"
   ]
  },
  {
   "cell_type": "code",
   "execution_count": 7,
   "id": "43b72a8a-41ff-4098-b441-4ae46debb4ee",
   "metadata": {
    "id": "43b72a8a-41ff-4098-b441-4ae46debb4ee"
   },
   "outputs": [],
   "source": [
    "df.drop(index=28,axis=1 , inplace=True)\n",
    "df.reset_index(drop=True, inplace=True)"
   ]
  },
  {
   "cell_type": "code",
   "execution_count": 8,
   "id": "605725c9-ae6b-408f-81a8-26d43b0baad2",
   "metadata": {
    "colab": {
     "base_uri": "https://localhost:8080/",
     "height": 241
    },
    "executionInfo": {
     "elapsed": 11,
     "status": "ok",
     "timestamp": 1727353938514,
     "user": {
      "displayName": "Samvel Arakelyan",
      "userId": "03624221637319618173"
     },
     "user_tz": -240
    },
    "id": "605725c9-ae6b-408f-81a8-26d43b0baad2",
    "outputId": "190c1a43-7429-4ffb-bb85-6c93c56b43a1"
   },
   "outputs": [
    {
     "data": {
      "text/plain": [
       "Rk                  21\n",
       "Player    Amari Bailey\n",
       "Pos                 PG\n",
       "Age                 19\n",
       "Tm                 CHO\n",
       "Name: 28, dtype: object"
      ]
     },
     "execution_count": 8,
     "metadata": {},
     "output_type": "execute_result"
    }
   ],
   "source": [
    "df.iloc[28].head()"
   ]
  },
  {
   "cell_type": "code",
   "execution_count": 9,
   "id": "169f1730-7361-479d-9102-36b7ed9f202d",
   "metadata": {
    "colab": {
     "base_uri": "https://localhost:8080/",
     "height": 1000
    },
    "executionInfo": {
     "elapsed": 10,
     "status": "ok",
     "timestamp": 1727353938514,
     "user": {
      "displayName": "Samvel Arakelyan",
      "userId": "03624221637319618173"
     },
     "user_tz": -240
    },
    "id": "169f1730-7361-479d-9102-36b7ed9f202d",
    "outputId": "ba355246-100c-4927-f2b8-1720b5358d21"
   },
   "outputs": [
    {
     "data": {
      "text/plain": [
       "Rk        object\n",
       "Player    object\n",
       "Pos       object\n",
       "Age       object\n",
       "Tm        object\n",
       "G         object\n",
       "GS        object\n",
       "MP        object\n",
       "FG        object\n",
       "FGA       object\n",
       "FG%       object\n",
       "3P        object\n",
       "3PA       object\n",
       "3P%       object\n",
       "2P        object\n",
       "2PA       object\n",
       "2P%       object\n",
       "eFG%      object\n",
       "FT        object\n",
       "FTA       object\n",
       "FT%       object\n",
       "ORB       object\n",
       "DRB       object\n",
       "TRB       object\n",
       "AST       object\n",
       "STL       object\n",
       "BLK       object\n",
       "TOV       object\n",
       "PF        object\n",
       "PTS       object\n",
       "dtype: object"
      ]
     },
     "execution_count": 9,
     "metadata": {},
     "output_type": "execute_result"
    }
   ],
   "source": [
    "df.dtypes"
   ]
  },
  {
   "cell_type": "code",
   "execution_count": 10,
   "id": "989646ba-cfc1-43c2-8541-f6f4d9077430",
   "metadata": {
    "id": "989646ba-cfc1-43c2-8541-f6f4d9077430"
   },
   "outputs": [],
   "source": [
    "df[['Rk','Age', 'G', 'GS']] = df[['Rk','Age', 'G', 'GS']].astype(int);\n",
    "ls_of_floats = ['PTS','PF', 'TOV', 'BLK', 'STL', 'AST', 'TRB', 'DRB', 'ORB', 'FTA', 'FT', '2PA', '2P', '3PA', '3P', 'FGA', 'FG', 'MP','FT%','FG%', '3P%', '2P%', 'eFG%']\n",
    "df[ls_of_floats] = df[ls_of_floats].astype(float);"
   ]
  },
  {
   "cell_type": "code",
   "execution_count": 11,
   "id": "96d83f69-f0ae-42ac-9baf-b29615eda14d",
   "metadata": {
    "colab": {
     "base_uri": "https://localhost:8080/",
     "height": 1000
    },
    "executionInfo": {
     "elapsed": 9,
     "status": "ok",
     "timestamp": 1727353938515,
     "user": {
      "displayName": "Samvel Arakelyan",
      "userId": "03624221637319618173"
     },
     "user_tz": -240
    },
    "id": "96d83f69-f0ae-42ac-9baf-b29615eda14d",
    "outputId": "c2fd06d8-85f8-44c7-aac9-2f2f8baa8b48",
    "scrolled": true
   },
   "outputs": [
    {
     "data": {
      "text/plain": [
       "Rk          int64\n",
       "Player     object\n",
       "Pos        object\n",
       "Age         int64\n",
       "Tm         object\n",
       "G           int64\n",
       "GS          int64\n",
       "MP        float64\n",
       "FG        float64\n",
       "FGA       float64\n",
       "FG%       float64\n",
       "3P        float64\n",
       "3PA       float64\n",
       "3P%       float64\n",
       "2P        float64\n",
       "2PA       float64\n",
       "2P%       float64\n",
       "eFG%      float64\n",
       "FT        float64\n",
       "FTA       float64\n",
       "FT%       float64\n",
       "ORB       float64\n",
       "DRB       float64\n",
       "TRB       float64\n",
       "AST       float64\n",
       "STL       float64\n",
       "BLK       float64\n",
       "TOV       float64\n",
       "PF        float64\n",
       "PTS       float64\n",
       "dtype: object"
      ]
     },
     "execution_count": 11,
     "metadata": {},
     "output_type": "execute_result"
    }
   ],
   "source": [
    "df.dtypes"
   ]
  },
  {
   "cell_type": "markdown",
   "id": "a490d7bf-7530-41e0-86b3-896b719c7d07",
   "metadata": {
    "jp-MarkdownHeadingCollapsed": true
   },
   "source": [
    "### Finding missing values in data"
   ]
  },
  {
   "cell_type": "code",
   "execution_count": 12,
   "id": "0eb6a92a-8b1a-4775-afba-a93e40a6379c",
   "metadata": {
    "colab": {
     "base_uri": "https://localhost:8080/"
    },
    "executionInfo": {
     "elapsed": 322,
     "status": "ok",
     "timestamp": 1727354517298,
     "user": {
      "displayName": "Samvel Arakelyan",
      "userId": "03624221637319618173"
     },
     "user_tz": -240
    },
    "id": "0eb6a92a-8b1a-4775-afba-a93e40a6379c",
    "outputId": "fe28077a-cd86-4af1-ad6a-6695fba6a6b7"
   },
   "outputs": [
    {
     "data": {
      "text/plain": [
       "Index(['FG%', '3P%', '2P%', 'eFG%', 'FT%'], dtype='object')"
      ]
     },
     "execution_count": 12,
     "metadata": {},
     "output_type": "execute_result"
    }
   ],
   "source": [
    "df.columns[df.isnull().any()]"
   ]
  },
  {
   "cell_type": "code",
   "execution_count": 13,
   "id": "LPSOPT1BzaHB",
   "metadata": {
    "colab": {
     "base_uri": "https://localhost:8080/",
     "height": 300
    },
    "executionInfo": {
     "elapsed": 359,
     "status": "ok",
     "timestamp": 1727354519572,
     "user": {
      "displayName": "Samvel Arakelyan",
      "userId": "03624221637319618173"
     },
     "user_tz": -240
    },
    "id": "LPSOPT1BzaHB",
    "outputId": "4d7963a1-1838-49c6-9f43-7c9800c5f59a"
   },
   "outputs": [
    {
     "data": {
      "text/html": [
       "<div>\n",
       "<style scoped>\n",
       "    .dataframe tbody tr th:only-of-type {\n",
       "        vertical-align: middle;\n",
       "    }\n",
       "\n",
       "    .dataframe tbody tr th {\n",
       "        vertical-align: top;\n",
       "    }\n",
       "\n",
       "    .dataframe thead th {\n",
       "        text-align: right;\n",
       "    }\n",
       "</style>\n",
       "<table border=\"1\" class=\"dataframe\">\n",
       "  <thead>\n",
       "    <tr style=\"text-align: right;\">\n",
       "      <th></th>\n",
       "      <th>FG</th>\n",
       "      <th>FGA</th>\n",
       "      <th>FG%</th>\n",
       "    </tr>\n",
       "  </thead>\n",
       "  <tbody>\n",
       "    <tr>\n",
       "      <th>79</th>\n",
       "      <td>0.0</td>\n",
       "      <td>0.0</td>\n",
       "      <td>NaN</td>\n",
       "    </tr>\n",
       "    <tr>\n",
       "      <th>127</th>\n",
       "      <td>0.0</td>\n",
       "      <td>0.0</td>\n",
       "      <td>NaN</td>\n",
       "    </tr>\n",
       "    <tr>\n",
       "      <th>270</th>\n",
       "      <td>0.0</td>\n",
       "      <td>0.0</td>\n",
       "      <td>NaN</td>\n",
       "    </tr>\n",
       "    <tr>\n",
       "      <th>321</th>\n",
       "      <td>0.0</td>\n",
       "      <td>0.0</td>\n",
       "      <td>NaN</td>\n",
       "    </tr>\n",
       "    <tr>\n",
       "      <th>330</th>\n",
       "      <td>0.0</td>\n",
       "      <td>0.0</td>\n",
       "      <td>NaN</td>\n",
       "    </tr>\n",
       "    <tr>\n",
       "      <th>374</th>\n",
       "      <td>0.0</td>\n",
       "      <td>0.0</td>\n",
       "      <td>NaN</td>\n",
       "    </tr>\n",
       "    <tr>\n",
       "      <th>517</th>\n",
       "      <td>0.0</td>\n",
       "      <td>0.0</td>\n",
       "      <td>NaN</td>\n",
       "    </tr>\n",
       "    <tr>\n",
       "      <th>607</th>\n",
       "      <td>0.0</td>\n",
       "      <td>0.0</td>\n",
       "      <td>NaN</td>\n",
       "    </tr>\n",
       "  </tbody>\n",
       "</table>\n",
       "</div>"
      ],
      "text/plain": [
       "      FG  FGA  FG%\n",
       "79   0.0  0.0  NaN\n",
       "127  0.0  0.0  NaN\n",
       "270  0.0  0.0  NaN\n",
       "321  0.0  0.0  NaN\n",
       "330  0.0  0.0  NaN\n",
       "374  0.0  0.0  NaN\n",
       "517  0.0  0.0  NaN\n",
       "607  0.0  0.0  NaN"
      ]
     },
     "execution_count": 13,
     "metadata": {},
     "output_type": "execute_result"
    }
   ],
   "source": [
    "df[df[\"FG%\"].isnull()][['FG', \"FGA\", \"FG%\"]]"
   ]
  },
  {
   "cell_type": "markdown",
   "id": "cd782561-3cf7-4300-a907-279a357a7ecc",
   "metadata": {
    "jp-MarkdownHeadingCollapsed": true
   },
   "source": [
    "### Handling missing data"
   ]
  },
  {
   "cell_type": "code",
   "execution_count": 14,
   "id": "00c8b38d-7e9f-4671-a201-df0fc978ca5c",
   "metadata": {
    "id": "00c8b38d-7e9f-4671-a201-df0fc978ca5c"
   },
   "outputs": [
    {
     "name": "stderr",
     "output_type": "stream",
     "text": [
      "/tmp/ipykernel_9371/2231758961.py:1: FutureWarning: A value is trying to be set on a copy of a DataFrame or Series through chained assignment using an inplace method.\n",
      "The behavior will change in pandas 3.0. This inplace method will never work because the intermediate object on which we are setting values always behaves as a copy.\n",
      "\n",
      "For example, when doing 'df[col].method(value, inplace=True)', try using 'df.method({col: value}, inplace=True)' or df[col] = df[col].method(value) instead, to perform the operation inplace on the original object.\n",
      "\n",
      "\n",
      "  df['FG%'].fillna(0, inplace=True);\n"
     ]
    }
   ],
   "source": [
    "df['FG%'].fillna(0, inplace=True);"
   ]
  },
  {
   "cell_type": "code",
   "execution_count": 15,
   "id": "67e103b3-78ec-4c2b-b8fc-05e4f42d8dfe",
   "metadata": {
    "colab": {
     "base_uri": "https://localhost:8080/"
    },
    "executionInfo": {
     "elapsed": 360,
     "status": "ok",
     "timestamp": 1727354535583,
     "user": {
      "displayName": "Samvel Arakelyan",
      "userId": "03624221637319618173"
     },
     "user_tz": -240
    },
    "id": "67e103b3-78ec-4c2b-b8fc-05e4f42d8dfe",
    "outputId": "a72c7735-ab92-46c1-cc4e-575488cc741a"
   },
   "outputs": [
    {
     "data": {
      "text/plain": [
       "0"
      ]
     },
     "execution_count": 15,
     "metadata": {},
     "output_type": "execute_result"
    }
   ],
   "source": [
    "df[\"FG%\"].isnull().sum()"
   ]
  },
  {
   "cell_type": "code",
   "execution_count": 16,
   "id": "4e48d90d-8781-438c-85ac-cf678091283c",
   "metadata": {
    "colab": {
     "base_uri": "https://localhost:8080/",
     "height": 1000
    },
    "executionInfo": {
     "elapsed": 352,
     "status": "ok",
     "timestamp": 1727354540253,
     "user": {
      "displayName": "Samvel Arakelyan",
      "userId": "03624221637319618173"
     },
     "user_tz": -240
    },
    "id": "4e48d90d-8781-438c-85ac-cf678091283c",
    "outputId": "4d099b64-97ce-4136-9760-823ddc49a5b4"
   },
   "outputs": [
    {
     "data": {
      "text/html": [
       "<div>\n",
       "<style scoped>\n",
       "    .dataframe tbody tr th:only-of-type {\n",
       "        vertical-align: middle;\n",
       "    }\n",
       "\n",
       "    .dataframe tbody tr th {\n",
       "        vertical-align: top;\n",
       "    }\n",
       "\n",
       "    .dataframe thead th {\n",
       "        text-align: right;\n",
       "    }\n",
       "</style>\n",
       "<table border=\"1\" class=\"dataframe\">\n",
       "  <thead>\n",
       "    <tr style=\"text-align: right;\">\n",
       "      <th></th>\n",
       "      <th>3P</th>\n",
       "      <th>3PA</th>\n",
       "      <th>3P%</th>\n",
       "    </tr>\n",
       "  </thead>\n",
       "  <tbody>\n",
       "    <tr>\n",
       "      <th>23</th>\n",
       "      <td>0.0</td>\n",
       "      <td>0.0</td>\n",
       "      <td>NaN</td>\n",
       "    </tr>\n",
       "    <tr>\n",
       "      <th>24</th>\n",
       "      <td>0.0</td>\n",
       "      <td>0.0</td>\n",
       "      <td>NaN</td>\n",
       "    </tr>\n",
       "    <tr>\n",
       "      <th>52</th>\n",
       "      <td>0.0</td>\n",
       "      <td>0.0</td>\n",
       "      <td>NaN</td>\n",
       "    </tr>\n",
       "    <tr>\n",
       "      <th>67</th>\n",
       "      <td>0.0</td>\n",
       "      <td>0.0</td>\n",
       "      <td>NaN</td>\n",
       "    </tr>\n",
       "    <tr>\n",
       "      <th>68</th>\n",
       "      <td>0.0</td>\n",
       "      <td>0.0</td>\n",
       "      <td>NaN</td>\n",
       "    </tr>\n",
       "    <tr>\n",
       "      <th>69</th>\n",
       "      <td>0.0</td>\n",
       "      <td>0.0</td>\n",
       "      <td>NaN</td>\n",
       "    </tr>\n",
       "    <tr>\n",
       "      <th>79</th>\n",
       "      <td>0.0</td>\n",
       "      <td>0.0</td>\n",
       "      <td>NaN</td>\n",
       "    </tr>\n",
       "    <tr>\n",
       "      <th>105</th>\n",
       "      <td>0.0</td>\n",
       "      <td>0.0</td>\n",
       "      <td>NaN</td>\n",
       "    </tr>\n",
       "    <tr>\n",
       "      <th>126</th>\n",
       "      <td>0.0</td>\n",
       "      <td>0.0</td>\n",
       "      <td>NaN</td>\n",
       "    </tr>\n",
       "    <tr>\n",
       "      <th>127</th>\n",
       "      <td>0.0</td>\n",
       "      <td>0.0</td>\n",
       "      <td>NaN</td>\n",
       "    </tr>\n",
       "    <tr>\n",
       "      <th>148</th>\n",
       "      <td>0.0</td>\n",
       "      <td>0.0</td>\n",
       "      <td>NaN</td>\n",
       "    </tr>\n",
       "    <tr>\n",
       "      <th>160</th>\n",
       "      <td>0.0</td>\n",
       "      <td>0.0</td>\n",
       "      <td>NaN</td>\n",
       "    </tr>\n",
       "    <tr>\n",
       "      <th>162</th>\n",
       "      <td>0.0</td>\n",
       "      <td>0.0</td>\n",
       "      <td>NaN</td>\n",
       "    </tr>\n",
       "    <tr>\n",
       "      <th>164</th>\n",
       "      <td>0.0</td>\n",
       "      <td>0.0</td>\n",
       "      <td>NaN</td>\n",
       "    </tr>\n",
       "    <tr>\n",
       "      <th>215</th>\n",
       "      <td>0.0</td>\n",
       "      <td>0.0</td>\n",
       "      <td>NaN</td>\n",
       "    </tr>\n",
       "    <tr>\n",
       "      <th>216</th>\n",
       "      <td>0.0</td>\n",
       "      <td>0.0</td>\n",
       "      <td>NaN</td>\n",
       "    </tr>\n",
       "    <tr>\n",
       "      <th>217</th>\n",
       "      <td>0.0</td>\n",
       "      <td>0.0</td>\n",
       "      <td>NaN</td>\n",
       "    </tr>\n",
       "    <tr>\n",
       "      <th>270</th>\n",
       "      <td>0.0</td>\n",
       "      <td>0.0</td>\n",
       "      <td>NaN</td>\n",
       "    </tr>\n",
       "    <tr>\n",
       "      <th>273</th>\n",
       "      <td>0.0</td>\n",
       "      <td>0.0</td>\n",
       "      <td>NaN</td>\n",
       "    </tr>\n",
       "    <tr>\n",
       "      <th>275</th>\n",
       "      <td>0.0</td>\n",
       "      <td>0.0</td>\n",
       "      <td>NaN</td>\n",
       "    </tr>\n",
       "    <tr>\n",
       "      <th>298</th>\n",
       "      <td>0.0</td>\n",
       "      <td>0.0</td>\n",
       "      <td>NaN</td>\n",
       "    </tr>\n",
       "    <tr>\n",
       "      <th>321</th>\n",
       "      <td>0.0</td>\n",
       "      <td>0.0</td>\n",
       "      <td>NaN</td>\n",
       "    </tr>\n",
       "    <tr>\n",
       "      <th>322</th>\n",
       "      <td>0.0</td>\n",
       "      <td>0.0</td>\n",
       "      <td>NaN</td>\n",
       "    </tr>\n",
       "    <tr>\n",
       "      <th>329</th>\n",
       "      <td>0.0</td>\n",
       "      <td>0.0</td>\n",
       "      <td>NaN</td>\n",
       "    </tr>\n",
       "    <tr>\n",
       "      <th>330</th>\n",
       "      <td>0.0</td>\n",
       "      <td>0.0</td>\n",
       "      <td>NaN</td>\n",
       "    </tr>\n",
       "    <tr>\n",
       "      <th>331</th>\n",
       "      <td>0.0</td>\n",
       "      <td>0.0</td>\n",
       "      <td>NaN</td>\n",
       "    </tr>\n",
       "    <tr>\n",
       "      <th>348</th>\n",
       "      <td>0.0</td>\n",
       "      <td>0.0</td>\n",
       "      <td>NaN</td>\n",
       "    </tr>\n",
       "    <tr>\n",
       "      <th>374</th>\n",
       "      <td>0.0</td>\n",
       "      <td>0.0</td>\n",
       "      <td>NaN</td>\n",
       "    </tr>\n",
       "    <tr>\n",
       "      <th>398</th>\n",
       "      <td>0.0</td>\n",
       "      <td>0.0</td>\n",
       "      <td>NaN</td>\n",
       "    </tr>\n",
       "    <tr>\n",
       "      <th>431</th>\n",
       "      <td>0.0</td>\n",
       "      <td>0.0</td>\n",
       "      <td>NaN</td>\n",
       "    </tr>\n",
       "    <tr>\n",
       "      <th>490</th>\n",
       "      <td>0.0</td>\n",
       "      <td>0.0</td>\n",
       "      <td>NaN</td>\n",
       "    </tr>\n",
       "    <tr>\n",
       "      <th>516</th>\n",
       "      <td>0.0</td>\n",
       "      <td>0.0</td>\n",
       "      <td>NaN</td>\n",
       "    </tr>\n",
       "    <tr>\n",
       "      <th>517</th>\n",
       "      <td>0.0</td>\n",
       "      <td>0.0</td>\n",
       "      <td>NaN</td>\n",
       "    </tr>\n",
       "    <tr>\n",
       "      <th>518</th>\n",
       "      <td>0.0</td>\n",
       "      <td>0.0</td>\n",
       "      <td>NaN</td>\n",
       "    </tr>\n",
       "    <tr>\n",
       "      <th>524</th>\n",
       "      <td>0.0</td>\n",
       "      <td>0.0</td>\n",
       "      <td>NaN</td>\n",
       "    </tr>\n",
       "    <tr>\n",
       "      <th>544</th>\n",
       "      <td>0.0</td>\n",
       "      <td>0.0</td>\n",
       "      <td>NaN</td>\n",
       "    </tr>\n",
       "    <tr>\n",
       "      <th>561</th>\n",
       "      <td>0.0</td>\n",
       "      <td>0.0</td>\n",
       "      <td>NaN</td>\n",
       "    </tr>\n",
       "    <tr>\n",
       "      <th>580</th>\n",
       "      <td>0.0</td>\n",
       "      <td>0.0</td>\n",
       "      <td>NaN</td>\n",
       "    </tr>\n",
       "    <tr>\n",
       "      <th>600</th>\n",
       "      <td>0.0</td>\n",
       "      <td>0.0</td>\n",
       "      <td>NaN</td>\n",
       "    </tr>\n",
       "    <tr>\n",
       "      <th>604</th>\n",
       "      <td>0.0</td>\n",
       "      <td>0.0</td>\n",
       "      <td>NaN</td>\n",
       "    </tr>\n",
       "    <tr>\n",
       "      <th>605</th>\n",
       "      <td>0.0</td>\n",
       "      <td>0.0</td>\n",
       "      <td>NaN</td>\n",
       "    </tr>\n",
       "    <tr>\n",
       "      <th>607</th>\n",
       "      <td>0.0</td>\n",
       "      <td>0.0</td>\n",
       "      <td>NaN</td>\n",
       "    </tr>\n",
       "    <tr>\n",
       "      <th>653</th>\n",
       "      <td>0.0</td>\n",
       "      <td>0.0</td>\n",
       "      <td>NaN</td>\n",
       "    </tr>\n",
       "    <tr>\n",
       "      <th>710</th>\n",
       "      <td>0.0</td>\n",
       "      <td>0.0</td>\n",
       "      <td>NaN</td>\n",
       "    </tr>\n",
       "    <tr>\n",
       "      <th>712</th>\n",
       "      <td>0.0</td>\n",
       "      <td>0.0</td>\n",
       "      <td>NaN</td>\n",
       "    </tr>\n",
       "    <tr>\n",
       "      <th>734</th>\n",
       "      <td>0.0</td>\n",
       "      <td>0.0</td>\n",
       "      <td>NaN</td>\n",
       "    </tr>\n",
       "  </tbody>\n",
       "</table>\n",
       "</div>"
      ],
      "text/plain": [
       "      3P  3PA  3P%\n",
       "23   0.0  0.0  NaN\n",
       "24   0.0  0.0  NaN\n",
       "52   0.0  0.0  NaN\n",
       "67   0.0  0.0  NaN\n",
       "68   0.0  0.0  NaN\n",
       "69   0.0  0.0  NaN\n",
       "79   0.0  0.0  NaN\n",
       "105  0.0  0.0  NaN\n",
       "126  0.0  0.0  NaN\n",
       "127  0.0  0.0  NaN\n",
       "148  0.0  0.0  NaN\n",
       "160  0.0  0.0  NaN\n",
       "162  0.0  0.0  NaN\n",
       "164  0.0  0.0  NaN\n",
       "215  0.0  0.0  NaN\n",
       "216  0.0  0.0  NaN\n",
       "217  0.0  0.0  NaN\n",
       "270  0.0  0.0  NaN\n",
       "273  0.0  0.0  NaN\n",
       "275  0.0  0.0  NaN\n",
       "298  0.0  0.0  NaN\n",
       "321  0.0  0.0  NaN\n",
       "322  0.0  0.0  NaN\n",
       "329  0.0  0.0  NaN\n",
       "330  0.0  0.0  NaN\n",
       "331  0.0  0.0  NaN\n",
       "348  0.0  0.0  NaN\n",
       "374  0.0  0.0  NaN\n",
       "398  0.0  0.0  NaN\n",
       "431  0.0  0.0  NaN\n",
       "490  0.0  0.0  NaN\n",
       "516  0.0  0.0  NaN\n",
       "517  0.0  0.0  NaN\n",
       "518  0.0  0.0  NaN\n",
       "524  0.0  0.0  NaN\n",
       "544  0.0  0.0  NaN\n",
       "561  0.0  0.0  NaN\n",
       "580  0.0  0.0  NaN\n",
       "600  0.0  0.0  NaN\n",
       "604  0.0  0.0  NaN\n",
       "605  0.0  0.0  NaN\n",
       "607  0.0  0.0  NaN\n",
       "653  0.0  0.0  NaN\n",
       "710  0.0  0.0  NaN\n",
       "712  0.0  0.0  NaN\n",
       "734  0.0  0.0  NaN"
      ]
     },
     "execution_count": 16,
     "metadata": {},
     "output_type": "execute_result"
    }
   ],
   "source": [
    "df[df[\"3P%\"].isnull()][['3P', '3PA', '3P%']]"
   ]
  },
  {
   "cell_type": "code",
   "execution_count": 17,
   "id": "e788e73c-08d1-4a2f-af64-9f37b6809726",
   "metadata": {
    "id": "e788e73c-08d1-4a2f-af64-9f37b6809726"
   },
   "outputs": [
    {
     "name": "stderr",
     "output_type": "stream",
     "text": [
      "/tmp/ipykernel_9371/3313680425.py:1: FutureWarning: A value is trying to be set on a copy of a DataFrame or Series through chained assignment using an inplace method.\n",
      "The behavior will change in pandas 3.0. This inplace method will never work because the intermediate object on which we are setting values always behaves as a copy.\n",
      "\n",
      "For example, when doing 'df[col].method(value, inplace=True)', try using 'df.method({col: value}, inplace=True)' or df[col] = df[col].method(value) instead, to perform the operation inplace on the original object.\n",
      "\n",
      "\n",
      "  df['3P%'].fillna(0, inplace=True);\n"
     ]
    }
   ],
   "source": [
    "df['3P%'].fillna(0, inplace=True);"
   ]
  },
  {
   "cell_type": "code",
   "execution_count": 18,
   "id": "74bb99bf-c6d6-429d-b2a2-82f35ec409c6",
   "metadata": {
    "colab": {
     "base_uri": "https://localhost:8080/"
    },
    "executionInfo": {
     "elapsed": 302,
     "status": "ok",
     "timestamp": 1727354554179,
     "user": {
      "displayName": "Samvel Arakelyan",
      "userId": "03624221637319618173"
     },
     "user_tz": -240
    },
    "id": "74bb99bf-c6d6-429d-b2a2-82f35ec409c6",
    "outputId": "165edb8a-a740-4a9f-d20d-759c2f1f9dc3"
   },
   "outputs": [
    {
     "data": {
      "text/plain": [
       "0"
      ]
     },
     "execution_count": 18,
     "metadata": {},
     "output_type": "execute_result"
    }
   ],
   "source": [
    "df[\"3P%\"].isnull().sum()"
   ]
  },
  {
   "cell_type": "code",
   "execution_count": 19,
   "id": "c49286eb-d367-4042-900f-8cc76e4dd9da",
   "metadata": {
    "colab": {
     "base_uri": "https://localhost:8080/",
     "height": 457
    },
    "executionInfo": {
     "elapsed": 350,
     "status": "ok",
     "timestamp": 1727354559270,
     "user": {
      "displayName": "Samvel Arakelyan",
      "userId": "03624221637319618173"
     },
     "user_tz": -240
    },
    "id": "c49286eb-d367-4042-900f-8cc76e4dd9da",
    "outputId": "6bc0949f-21e8-4d63-9ba7-c1fdc2874486"
   },
   "outputs": [
    {
     "data": {
      "text/html": [
       "<div>\n",
       "<style scoped>\n",
       "    .dataframe tbody tr th:only-of-type {\n",
       "        vertical-align: middle;\n",
       "    }\n",
       "\n",
       "    .dataframe tbody tr th {\n",
       "        vertical-align: top;\n",
       "    }\n",
       "\n",
       "    .dataframe thead th {\n",
       "        text-align: right;\n",
       "    }\n",
       "</style>\n",
       "<table border=\"1\" class=\"dataframe\">\n",
       "  <thead>\n",
       "    <tr style=\"text-align: right;\">\n",
       "      <th></th>\n",
       "      <th>2P</th>\n",
       "      <th>2PA</th>\n",
       "      <th>2P%</th>\n",
       "    </tr>\n",
       "  </thead>\n",
       "  <tbody>\n",
       "    <tr>\n",
       "      <th>20</th>\n",
       "      <td>0.0</td>\n",
       "      <td>0.0</td>\n",
       "      <td>NaN</td>\n",
       "    </tr>\n",
       "    <tr>\n",
       "      <th>79</th>\n",
       "      <td>0.0</td>\n",
       "      <td>0.0</td>\n",
       "      <td>NaN</td>\n",
       "    </tr>\n",
       "    <tr>\n",
       "      <th>127</th>\n",
       "      <td>0.0</td>\n",
       "      <td>0.0</td>\n",
       "      <td>NaN</td>\n",
       "    </tr>\n",
       "    <tr>\n",
       "      <th>163</th>\n",
       "      <td>0.0</td>\n",
       "      <td>0.0</td>\n",
       "      <td>NaN</td>\n",
       "    </tr>\n",
       "    <tr>\n",
       "      <th>240</th>\n",
       "      <td>0.0</td>\n",
       "      <td>0.0</td>\n",
       "      <td>NaN</td>\n",
       "    </tr>\n",
       "    <tr>\n",
       "      <th>270</th>\n",
       "      <td>0.0</td>\n",
       "      <td>0.0</td>\n",
       "      <td>NaN</td>\n",
       "    </tr>\n",
       "    <tr>\n",
       "      <th>321</th>\n",
       "      <td>0.0</td>\n",
       "      <td>0.0</td>\n",
       "      <td>NaN</td>\n",
       "    </tr>\n",
       "    <tr>\n",
       "      <th>330</th>\n",
       "      <td>0.0</td>\n",
       "      <td>0.0</td>\n",
       "      <td>NaN</td>\n",
       "    </tr>\n",
       "    <tr>\n",
       "      <th>374</th>\n",
       "      <td>0.0</td>\n",
       "      <td>0.0</td>\n",
       "      <td>NaN</td>\n",
       "    </tr>\n",
       "    <tr>\n",
       "      <th>517</th>\n",
       "      <td>0.0</td>\n",
       "      <td>0.0</td>\n",
       "      <td>NaN</td>\n",
       "    </tr>\n",
       "    <tr>\n",
       "      <th>607</th>\n",
       "      <td>0.0</td>\n",
       "      <td>0.0</td>\n",
       "      <td>NaN</td>\n",
       "    </tr>\n",
       "    <tr>\n",
       "      <th>655</th>\n",
       "      <td>0.0</td>\n",
       "      <td>0.0</td>\n",
       "      <td>NaN</td>\n",
       "    </tr>\n",
       "    <tr>\n",
       "      <th>719</th>\n",
       "      <td>0.0</td>\n",
       "      <td>0.0</td>\n",
       "      <td>NaN</td>\n",
       "    </tr>\n",
       "  </tbody>\n",
       "</table>\n",
       "</div>"
      ],
      "text/plain": [
       "      2P  2PA  2P%\n",
       "20   0.0  0.0  NaN\n",
       "79   0.0  0.0  NaN\n",
       "127  0.0  0.0  NaN\n",
       "163  0.0  0.0  NaN\n",
       "240  0.0  0.0  NaN\n",
       "270  0.0  0.0  NaN\n",
       "321  0.0  0.0  NaN\n",
       "330  0.0  0.0  NaN\n",
       "374  0.0  0.0  NaN\n",
       "517  0.0  0.0  NaN\n",
       "607  0.0  0.0  NaN\n",
       "655  0.0  0.0  NaN\n",
       "719  0.0  0.0  NaN"
      ]
     },
     "execution_count": 19,
     "metadata": {},
     "output_type": "execute_result"
    }
   ],
   "source": [
    "df[df[\"2P%\"].isnull()][['2P', '2PA', '2P%']]"
   ]
  },
  {
   "cell_type": "code",
   "execution_count": 20,
   "id": "69acdaf4-e8d6-4e52-84c0-ba907b5bb542",
   "metadata": {
    "id": "69acdaf4-e8d6-4e52-84c0-ba907b5bb542"
   },
   "outputs": [
    {
     "name": "stderr",
     "output_type": "stream",
     "text": [
      "/tmp/ipykernel_9371/2068831819.py:1: FutureWarning: A value is trying to be set on a copy of a DataFrame or Series through chained assignment using an inplace method.\n",
      "The behavior will change in pandas 3.0. This inplace method will never work because the intermediate object on which we are setting values always behaves as a copy.\n",
      "\n",
      "For example, when doing 'df[col].method(value, inplace=True)', try using 'df.method({col: value}, inplace=True)' or df[col] = df[col].method(value) instead, to perform the operation inplace on the original object.\n",
      "\n",
      "\n",
      "  df['2P%'].fillna(0, inplace=True);\n"
     ]
    }
   ],
   "source": [
    "df['2P%'].fillna(0, inplace=True);"
   ]
  },
  {
   "cell_type": "code",
   "execution_count": 21,
   "id": "c4223670-5d9b-42e0-a446-26141033a6ae",
   "metadata": {
    "colab": {
     "base_uri": "https://localhost:8080/"
    },
    "executionInfo": {
     "elapsed": 326,
     "status": "ok",
     "timestamp": 1727354570977,
     "user": {
      "displayName": "Samvel Arakelyan",
      "userId": "03624221637319618173"
     },
     "user_tz": -240
    },
    "id": "c4223670-5d9b-42e0-a446-26141033a6ae",
    "outputId": "f6e458db-f0b9-4501-ae87-0c3ee6a0700b"
   },
   "outputs": [
    {
     "data": {
      "text/plain": [
       "0"
      ]
     },
     "execution_count": 21,
     "metadata": {},
     "output_type": "execute_result"
    }
   ],
   "source": [
    "df[\"2P%\"].isnull().sum()"
   ]
  },
  {
   "cell_type": "code",
   "execution_count": 22,
   "id": "b2817688-0391-45f2-8b6f-cafefbb65209",
   "metadata": {
    "colab": {
     "base_uri": "https://localhost:8080/",
     "height": 300
    },
    "executionInfo": {
     "elapsed": 332,
     "status": "ok",
     "timestamp": 1727354572443,
     "user": {
      "displayName": "Samvel Arakelyan",
      "userId": "03624221637319618173"
     },
     "user_tz": -240
    },
    "id": "b2817688-0391-45f2-8b6f-cafefbb65209",
    "outputId": "3f586029-9935-48f5-ee8e-587b019181a9"
   },
   "outputs": [
    {
     "data": {
      "text/html": [
       "<div>\n",
       "<style scoped>\n",
       "    .dataframe tbody tr th:only-of-type {\n",
       "        vertical-align: middle;\n",
       "    }\n",
       "\n",
       "    .dataframe tbody tr th {\n",
       "        vertical-align: top;\n",
       "    }\n",
       "\n",
       "    .dataframe thead th {\n",
       "        text-align: right;\n",
       "    }\n",
       "</style>\n",
       "<table border=\"1\" class=\"dataframe\">\n",
       "  <thead>\n",
       "    <tr style=\"text-align: right;\">\n",
       "      <th></th>\n",
       "      <th>FG</th>\n",
       "      <th>3P</th>\n",
       "      <th>FGA</th>\n",
       "    </tr>\n",
       "  </thead>\n",
       "  <tbody>\n",
       "    <tr>\n",
       "      <th>79</th>\n",
       "      <td>0.0</td>\n",
       "      <td>0.0</td>\n",
       "      <td>0.0</td>\n",
       "    </tr>\n",
       "    <tr>\n",
       "      <th>127</th>\n",
       "      <td>0.0</td>\n",
       "      <td>0.0</td>\n",
       "      <td>0.0</td>\n",
       "    </tr>\n",
       "    <tr>\n",
       "      <th>270</th>\n",
       "      <td>0.0</td>\n",
       "      <td>0.0</td>\n",
       "      <td>0.0</td>\n",
       "    </tr>\n",
       "    <tr>\n",
       "      <th>321</th>\n",
       "      <td>0.0</td>\n",
       "      <td>0.0</td>\n",
       "      <td>0.0</td>\n",
       "    </tr>\n",
       "    <tr>\n",
       "      <th>330</th>\n",
       "      <td>0.0</td>\n",
       "      <td>0.0</td>\n",
       "      <td>0.0</td>\n",
       "    </tr>\n",
       "    <tr>\n",
       "      <th>374</th>\n",
       "      <td>0.0</td>\n",
       "      <td>0.0</td>\n",
       "      <td>0.0</td>\n",
       "    </tr>\n",
       "    <tr>\n",
       "      <th>517</th>\n",
       "      <td>0.0</td>\n",
       "      <td>0.0</td>\n",
       "      <td>0.0</td>\n",
       "    </tr>\n",
       "    <tr>\n",
       "      <th>607</th>\n",
       "      <td>0.0</td>\n",
       "      <td>0.0</td>\n",
       "      <td>0.0</td>\n",
       "    </tr>\n",
       "  </tbody>\n",
       "</table>\n",
       "</div>"
      ],
      "text/plain": [
       "      FG   3P  FGA\n",
       "79   0.0  0.0  0.0\n",
       "127  0.0  0.0  0.0\n",
       "270  0.0  0.0  0.0\n",
       "321  0.0  0.0  0.0\n",
       "330  0.0  0.0  0.0\n",
       "374  0.0  0.0  0.0\n",
       "517  0.0  0.0  0.0\n",
       "607  0.0  0.0  0.0"
      ]
     },
     "execution_count": 22,
     "metadata": {},
     "output_type": "execute_result"
    }
   ],
   "source": [
    "df[df[\"eFG%\"].isnull()][['FG', '3P','FGA']]"
   ]
  },
  {
   "cell_type": "code",
   "execution_count": 23,
   "id": "67c04cbf-0535-406d-bb4d-c74eea5c81db",
   "metadata": {
    "id": "67c04cbf-0535-406d-bb4d-c74eea5c81db"
   },
   "outputs": [
    {
     "name": "stderr",
     "output_type": "stream",
     "text": [
      "/tmp/ipykernel_9371/2624429655.py:1: FutureWarning: A value is trying to be set on a copy of a DataFrame or Series through chained assignment using an inplace method.\n",
      "The behavior will change in pandas 3.0. This inplace method will never work because the intermediate object on which we are setting values always behaves as a copy.\n",
      "\n",
      "For example, when doing 'df[col].method(value, inplace=True)', try using 'df.method({col: value}, inplace=True)' or df[col] = df[col].method(value) instead, to perform the operation inplace on the original object.\n",
      "\n",
      "\n",
      "  df['eFG%'].fillna(0, inplace=True);\n"
     ]
    }
   ],
   "source": [
    "df['eFG%'].fillna(0, inplace=True);"
   ]
  },
  {
   "cell_type": "code",
   "execution_count": 24,
   "id": "3a2867da-1d16-4019-99e9-0c2cf2362e95",
   "metadata": {
    "colab": {
     "base_uri": "https://localhost:8080/"
    },
    "executionInfo": {
     "elapsed": 322,
     "status": "ok",
     "timestamp": 1727354587478,
     "user": {
      "displayName": "Samvel Arakelyan",
      "userId": "03624221637319618173"
     },
     "user_tz": -240
    },
    "id": "3a2867da-1d16-4019-99e9-0c2cf2362e95",
    "outputId": "ca26c0aa-1841-4279-8311-4524765c5be2"
   },
   "outputs": [
    {
     "data": {
      "text/plain": [
       "0"
      ]
     },
     "execution_count": 24,
     "metadata": {},
     "output_type": "execute_result"
    }
   ],
   "source": [
    "df[\"eFG%\"].isnull().sum()"
   ]
  },
  {
   "cell_type": "code",
   "execution_count": 25,
   "id": "dLTOqNAK375r",
   "metadata": {
    "colab": {
     "base_uri": "https://localhost:8080/",
     "height": 1000
    },
    "executionInfo": {
     "elapsed": 363,
     "status": "ok",
     "timestamp": 1727354590083,
     "user": {
      "displayName": "Samvel Arakelyan",
      "userId": "03624221637319618173"
     },
     "user_tz": -240
    },
    "id": "dLTOqNAK375r",
    "outputId": "c586108d-63d2-401a-e73b-1ec595bec45a"
   },
   "outputs": [
    {
     "data": {
      "text/html": [
       "<div>\n",
       "<style scoped>\n",
       "    .dataframe tbody tr th:only-of-type {\n",
       "        vertical-align: middle;\n",
       "    }\n",
       "\n",
       "    .dataframe tbody tr th {\n",
       "        vertical-align: top;\n",
       "    }\n",
       "\n",
       "    .dataframe thead th {\n",
       "        text-align: right;\n",
       "    }\n",
       "</style>\n",
       "<table border=\"1\" class=\"dataframe\">\n",
       "  <thead>\n",
       "    <tr style=\"text-align: right;\">\n",
       "      <th></th>\n",
       "      <th>FT</th>\n",
       "      <th>FTA</th>\n",
       "      <th>FT%</th>\n",
       "    </tr>\n",
       "  </thead>\n",
       "  <tbody>\n",
       "    <tr>\n",
       "      <th>20</th>\n",
       "      <td>0.0</td>\n",
       "      <td>0.0</td>\n",
       "      <td>NaN</td>\n",
       "    </tr>\n",
       "    <tr>\n",
       "      <th>49</th>\n",
       "      <td>0.0</td>\n",
       "      <td>0.0</td>\n",
       "      <td>NaN</td>\n",
       "    </tr>\n",
       "    <tr>\n",
       "      <th>52</th>\n",
       "      <td>0.0</td>\n",
       "      <td>0.0</td>\n",
       "      <td>NaN</td>\n",
       "    </tr>\n",
       "    <tr>\n",
       "      <th>79</th>\n",
       "      <td>0.0</td>\n",
       "      <td>0.0</td>\n",
       "      <td>NaN</td>\n",
       "    </tr>\n",
       "    <tr>\n",
       "      <th>85</th>\n",
       "      <td>0.0</td>\n",
       "      <td>0.0</td>\n",
       "      <td>NaN</td>\n",
       "    </tr>\n",
       "    <tr>\n",
       "      <th>86</th>\n",
       "      <td>0.0</td>\n",
       "      <td>0.0</td>\n",
       "      <td>NaN</td>\n",
       "    </tr>\n",
       "    <tr>\n",
       "      <th>87</th>\n",
       "      <td>0.0</td>\n",
       "      <td>0.0</td>\n",
       "      <td>NaN</td>\n",
       "    </tr>\n",
       "    <tr>\n",
       "      <th>93</th>\n",
       "      <td>0.0</td>\n",
       "      <td>0.0</td>\n",
       "      <td>NaN</td>\n",
       "    </tr>\n",
       "    <tr>\n",
       "      <th>100</th>\n",
       "      <td>0.0</td>\n",
       "      <td>0.0</td>\n",
       "      <td>NaN</td>\n",
       "    </tr>\n",
       "    <tr>\n",
       "      <th>127</th>\n",
       "      <td>0.0</td>\n",
       "      <td>0.0</td>\n",
       "      <td>NaN</td>\n",
       "    </tr>\n",
       "    <tr>\n",
       "      <th>148</th>\n",
       "      <td>0.0</td>\n",
       "      <td>0.0</td>\n",
       "      <td>NaN</td>\n",
       "    </tr>\n",
       "    <tr>\n",
       "      <th>163</th>\n",
       "      <td>0.0</td>\n",
       "      <td>0.0</td>\n",
       "      <td>NaN</td>\n",
       "    </tr>\n",
       "    <tr>\n",
       "      <th>164</th>\n",
       "      <td>0.0</td>\n",
       "      <td>0.0</td>\n",
       "      <td>NaN</td>\n",
       "    </tr>\n",
       "    <tr>\n",
       "      <th>189</th>\n",
       "      <td>0.0</td>\n",
       "      <td>0.0</td>\n",
       "      <td>NaN</td>\n",
       "    </tr>\n",
       "    <tr>\n",
       "      <th>194</th>\n",
       "      <td>0.0</td>\n",
       "      <td>0.0</td>\n",
       "      <td>NaN</td>\n",
       "    </tr>\n",
       "    <tr>\n",
       "      <th>211</th>\n",
       "      <td>0.0</td>\n",
       "      <td>0.0</td>\n",
       "      <td>NaN</td>\n",
       "    </tr>\n",
       "    <tr>\n",
       "      <th>213</th>\n",
       "      <td>0.0</td>\n",
       "      <td>0.0</td>\n",
       "      <td>NaN</td>\n",
       "    </tr>\n",
       "    <tr>\n",
       "      <th>225</th>\n",
       "      <td>0.0</td>\n",
       "      <td>0.0</td>\n",
       "      <td>NaN</td>\n",
       "    </tr>\n",
       "    <tr>\n",
       "      <th>230</th>\n",
       "      <td>0.0</td>\n",
       "      <td>0.0</td>\n",
       "      <td>NaN</td>\n",
       "    </tr>\n",
       "    <tr>\n",
       "      <th>234</th>\n",
       "      <td>0.0</td>\n",
       "      <td>0.0</td>\n",
       "      <td>NaN</td>\n",
       "    </tr>\n",
       "    <tr>\n",
       "      <th>240</th>\n",
       "      <td>0.0</td>\n",
       "      <td>0.0</td>\n",
       "      <td>NaN</td>\n",
       "    </tr>\n",
       "    <tr>\n",
       "      <th>249</th>\n",
       "      <td>0.0</td>\n",
       "      <td>0.0</td>\n",
       "      <td>NaN</td>\n",
       "    </tr>\n",
       "    <tr>\n",
       "      <th>251</th>\n",
       "      <td>0.0</td>\n",
       "      <td>0.0</td>\n",
       "      <td>NaN</td>\n",
       "    </tr>\n",
       "    <tr>\n",
       "      <th>270</th>\n",
       "      <td>0.0</td>\n",
       "      <td>0.0</td>\n",
       "      <td>NaN</td>\n",
       "    </tr>\n",
       "    <tr>\n",
       "      <th>273</th>\n",
       "      <td>0.0</td>\n",
       "      <td>0.0</td>\n",
       "      <td>NaN</td>\n",
       "    </tr>\n",
       "    <tr>\n",
       "      <th>275</th>\n",
       "      <td>0.0</td>\n",
       "      <td>0.0</td>\n",
       "      <td>NaN</td>\n",
       "    </tr>\n",
       "    <tr>\n",
       "      <th>321</th>\n",
       "      <td>0.0</td>\n",
       "      <td>0.0</td>\n",
       "      <td>NaN</td>\n",
       "    </tr>\n",
       "    <tr>\n",
       "      <th>330</th>\n",
       "      <td>0.0</td>\n",
       "      <td>0.0</td>\n",
       "      <td>NaN</td>\n",
       "    </tr>\n",
       "    <tr>\n",
       "      <th>332</th>\n",
       "      <td>0.0</td>\n",
       "      <td>0.0</td>\n",
       "      <td>NaN</td>\n",
       "    </tr>\n",
       "    <tr>\n",
       "      <th>339</th>\n",
       "      <td>0.0</td>\n",
       "      <td>0.0</td>\n",
       "      <td>NaN</td>\n",
       "    </tr>\n",
       "    <tr>\n",
       "      <th>374</th>\n",
       "      <td>0.0</td>\n",
       "      <td>0.0</td>\n",
       "      <td>NaN</td>\n",
       "    </tr>\n",
       "    <tr>\n",
       "      <th>385</th>\n",
       "      <td>0.0</td>\n",
       "      <td>0.0</td>\n",
       "      <td>NaN</td>\n",
       "    </tr>\n",
       "    <tr>\n",
       "      <th>418</th>\n",
       "      <td>0.0</td>\n",
       "      <td>0.0</td>\n",
       "      <td>NaN</td>\n",
       "    </tr>\n",
       "    <tr>\n",
       "      <th>445</th>\n",
       "      <td>0.0</td>\n",
       "      <td>0.0</td>\n",
       "      <td>NaN</td>\n",
       "    </tr>\n",
       "    <tr>\n",
       "      <th>461</th>\n",
       "      <td>0.0</td>\n",
       "      <td>0.0</td>\n",
       "      <td>NaN</td>\n",
       "    </tr>\n",
       "    <tr>\n",
       "      <th>515</th>\n",
       "      <td>0.0</td>\n",
       "      <td>0.0</td>\n",
       "      <td>NaN</td>\n",
       "    </tr>\n",
       "    <tr>\n",
       "      <th>517</th>\n",
       "      <td>0.0</td>\n",
       "      <td>0.0</td>\n",
       "      <td>NaN</td>\n",
       "    </tr>\n",
       "    <tr>\n",
       "      <th>538</th>\n",
       "      <td>0.0</td>\n",
       "      <td>0.0</td>\n",
       "      <td>NaN</td>\n",
       "    </tr>\n",
       "    <tr>\n",
       "      <th>539</th>\n",
       "      <td>0.0</td>\n",
       "      <td>0.0</td>\n",
       "      <td>NaN</td>\n",
       "    </tr>\n",
       "    <tr>\n",
       "      <th>569</th>\n",
       "      <td>0.0</td>\n",
       "      <td>0.0</td>\n",
       "      <td>NaN</td>\n",
       "    </tr>\n",
       "    <tr>\n",
       "      <th>601</th>\n",
       "      <td>0.0</td>\n",
       "      <td>0.0</td>\n",
       "      <td>NaN</td>\n",
       "    </tr>\n",
       "    <tr>\n",
       "      <th>605</th>\n",
       "      <td>0.0</td>\n",
       "      <td>0.0</td>\n",
       "      <td>NaN</td>\n",
       "    </tr>\n",
       "    <tr>\n",
       "      <th>606</th>\n",
       "      <td>0.0</td>\n",
       "      <td>0.0</td>\n",
       "      <td>NaN</td>\n",
       "    </tr>\n",
       "    <tr>\n",
       "      <th>607</th>\n",
       "      <td>0.0</td>\n",
       "      <td>0.0</td>\n",
       "      <td>NaN</td>\n",
       "    </tr>\n",
       "    <tr>\n",
       "      <th>617</th>\n",
       "      <td>0.0</td>\n",
       "      <td>0.0</td>\n",
       "      <td>NaN</td>\n",
       "    </tr>\n",
       "    <tr>\n",
       "      <th>635</th>\n",
       "      <td>0.0</td>\n",
       "      <td>0.0</td>\n",
       "      <td>NaN</td>\n",
       "    </tr>\n",
       "    <tr>\n",
       "      <th>638</th>\n",
       "      <td>0.0</td>\n",
       "      <td>0.0</td>\n",
       "      <td>NaN</td>\n",
       "    </tr>\n",
       "    <tr>\n",
       "      <th>650</th>\n",
       "      <td>0.0</td>\n",
       "      <td>0.0</td>\n",
       "      <td>NaN</td>\n",
       "    </tr>\n",
       "    <tr>\n",
       "      <th>655</th>\n",
       "      <td>0.0</td>\n",
       "      <td>0.0</td>\n",
       "      <td>NaN</td>\n",
       "    </tr>\n",
       "    <tr>\n",
       "      <th>658</th>\n",
       "      <td>0.0</td>\n",
       "      <td>0.0</td>\n",
       "      <td>NaN</td>\n",
       "    </tr>\n",
       "    <tr>\n",
       "      <th>673</th>\n",
       "      <td>0.0</td>\n",
       "      <td>0.0</td>\n",
       "      <td>NaN</td>\n",
       "    </tr>\n",
       "    <tr>\n",
       "      <th>683</th>\n",
       "      <td>0.0</td>\n",
       "      <td>0.0</td>\n",
       "      <td>NaN</td>\n",
       "    </tr>\n",
       "    <tr>\n",
       "      <th>695</th>\n",
       "      <td>0.0</td>\n",
       "      <td>0.0</td>\n",
       "      <td>NaN</td>\n",
       "    </tr>\n",
       "    <tr>\n",
       "      <th>716</th>\n",
       "      <td>0.0</td>\n",
       "      <td>0.0</td>\n",
       "      <td>NaN</td>\n",
       "    </tr>\n",
       "    <tr>\n",
       "      <th>718</th>\n",
       "      <td>0.0</td>\n",
       "      <td>0.0</td>\n",
       "      <td>NaN</td>\n",
       "    </tr>\n",
       "    <tr>\n",
       "      <th>719</th>\n",
       "      <td>0.0</td>\n",
       "      <td>0.0</td>\n",
       "      <td>NaN</td>\n",
       "    </tr>\n",
       "    <tr>\n",
       "      <th>720</th>\n",
       "      <td>0.0</td>\n",
       "      <td>0.0</td>\n",
       "      <td>NaN</td>\n",
       "    </tr>\n",
       "    <tr>\n",
       "      <th>721</th>\n",
       "      <td>0.0</td>\n",
       "      <td>0.0</td>\n",
       "      <td>NaN</td>\n",
       "    </tr>\n",
       "    <tr>\n",
       "      <th>723</th>\n",
       "      <td>0.0</td>\n",
       "      <td>0.0</td>\n",
       "      <td>NaN</td>\n",
       "    </tr>\n",
       "  </tbody>\n",
       "</table>\n",
       "</div>"
      ],
      "text/plain": [
       "      FT  FTA  FT%\n",
       "20   0.0  0.0  NaN\n",
       "49   0.0  0.0  NaN\n",
       "52   0.0  0.0  NaN\n",
       "79   0.0  0.0  NaN\n",
       "85   0.0  0.0  NaN\n",
       "86   0.0  0.0  NaN\n",
       "87   0.0  0.0  NaN\n",
       "93   0.0  0.0  NaN\n",
       "100  0.0  0.0  NaN\n",
       "127  0.0  0.0  NaN\n",
       "148  0.0  0.0  NaN\n",
       "163  0.0  0.0  NaN\n",
       "164  0.0  0.0  NaN\n",
       "189  0.0  0.0  NaN\n",
       "194  0.0  0.0  NaN\n",
       "211  0.0  0.0  NaN\n",
       "213  0.0  0.0  NaN\n",
       "225  0.0  0.0  NaN\n",
       "230  0.0  0.0  NaN\n",
       "234  0.0  0.0  NaN\n",
       "240  0.0  0.0  NaN\n",
       "249  0.0  0.0  NaN\n",
       "251  0.0  0.0  NaN\n",
       "270  0.0  0.0  NaN\n",
       "273  0.0  0.0  NaN\n",
       "275  0.0  0.0  NaN\n",
       "321  0.0  0.0  NaN\n",
       "330  0.0  0.0  NaN\n",
       "332  0.0  0.0  NaN\n",
       "339  0.0  0.0  NaN\n",
       "374  0.0  0.0  NaN\n",
       "385  0.0  0.0  NaN\n",
       "418  0.0  0.0  NaN\n",
       "445  0.0  0.0  NaN\n",
       "461  0.0  0.0  NaN\n",
       "515  0.0  0.0  NaN\n",
       "517  0.0  0.0  NaN\n",
       "538  0.0  0.0  NaN\n",
       "539  0.0  0.0  NaN\n",
       "569  0.0  0.0  NaN\n",
       "601  0.0  0.0  NaN\n",
       "605  0.0  0.0  NaN\n",
       "606  0.0  0.0  NaN\n",
       "607  0.0  0.0  NaN\n",
       "617  0.0  0.0  NaN\n",
       "635  0.0  0.0  NaN\n",
       "638  0.0  0.0  NaN\n",
       "650  0.0  0.0  NaN\n",
       "655  0.0  0.0  NaN\n",
       "658  0.0  0.0  NaN\n",
       "673  0.0  0.0  NaN\n",
       "683  0.0  0.0  NaN\n",
       "695  0.0  0.0  NaN\n",
       "716  0.0  0.0  NaN\n",
       "718  0.0  0.0  NaN\n",
       "719  0.0  0.0  NaN\n",
       "720  0.0  0.0  NaN\n",
       "721  0.0  0.0  NaN\n",
       "723  0.0  0.0  NaN"
      ]
     },
     "execution_count": 25,
     "metadata": {},
     "output_type": "execute_result"
    }
   ],
   "source": [
    "df[df[\"FT%\"].isnull()][['FT', 'FTA','FT%']]"
   ]
  },
  {
   "cell_type": "code",
   "execution_count": 26,
   "id": "0F36_ryw378D",
   "metadata": {
    "id": "0F36_ryw378D"
   },
   "outputs": [
    {
     "name": "stderr",
     "output_type": "stream",
     "text": [
      "/tmp/ipykernel_9371/2423151504.py:1: FutureWarning: A value is trying to be set on a copy of a DataFrame or Series through chained assignment using an inplace method.\n",
      "The behavior will change in pandas 3.0. This inplace method will never work because the intermediate object on which we are setting values always behaves as a copy.\n",
      "\n",
      "For example, when doing 'df[col].method(value, inplace=True)', try using 'df.method({col: value}, inplace=True)' or df[col] = df[col].method(value) instead, to perform the operation inplace on the original object.\n",
      "\n",
      "\n",
      "  df['FT%'].fillna(0, inplace=True);\n"
     ]
    }
   ],
   "source": [
    "df['FT%'].fillna(0, inplace=True);"
   ]
  },
  {
   "cell_type": "code",
   "execution_count": 27,
   "id": "cZ1d6o5137-6",
   "metadata": {
    "colab": {
     "base_uri": "https://localhost:8080/"
    },
    "executionInfo": {
     "elapsed": 371,
     "status": "ok",
     "timestamp": 1727354602610,
     "user": {
      "displayName": "Samvel Arakelyan",
      "userId": "03624221637319618173"
     },
     "user_tz": -240
    },
    "id": "cZ1d6o5137-6",
    "outputId": "039638be-b6bb-48f4-c70a-8eb830a5ac19"
   },
   "outputs": [
    {
     "data": {
      "text/plain": [
       "0"
      ]
     },
     "execution_count": 27,
     "metadata": {},
     "output_type": "execute_result"
    }
   ],
   "source": [
    "df[\"FT%\"].isnull().sum()"
   ]
  },
  {
   "cell_type": "code",
   "execution_count": 28,
   "id": "qOOBHqGQ38BL",
   "metadata": {
    "colab": {
     "base_uri": "https://localhost:8080/"
    },
    "executionInfo": {
     "elapsed": 327,
     "status": "ok",
     "timestamp": 1727354608343,
     "user": {
      "displayName": "Samvel Arakelyan",
      "userId": "03624221637319618173"
     },
     "user_tz": -240
    },
    "id": "qOOBHqGQ38BL",
    "outputId": "1c4c9b37-410d-41e5-da31-6417387a8200"
   },
   "outputs": [
    {
     "data": {
      "text/plain": [
       "0"
      ]
     },
     "execution_count": 28,
     "metadata": {},
     "output_type": "execute_result"
    }
   ],
   "source": [
    "df.isnull().sum().sum()"
   ]
  },
  {
   "cell_type": "markdown",
   "id": "335a7d6c-0d7b-4fe2-bc13-7f361a6dbe2d",
   "metadata": {
    "jp-MarkdownHeadingCollapsed": true
   },
   "source": [
    "### Finding outliers"
   ]
  },
  {
   "cell_type": "code",
   "execution_count": 29,
   "id": "b935f874-f472-4035-b943-d0c746f6e666",
   "metadata": {},
   "outputs": [
    {
     "name": "stdout",
     "output_type": "stream",
     "text": [
      "Outliers in 'Rk':--------------------------------------------------------\n",
      "Series([], Name: Rk, dtype: int64)\n",
      "Outliers in 'Age':--------------------------------------------------------\n",
      "325    39\n",
      "Name: Age, dtype: int64\n",
      "Outliers in 'G':--------------------------------------------------------\n",
      "Series([], Name: G, dtype: int64)\n",
      "Outliers in 'GS':--------------------------------------------------------\n",
      "9      74\n",
      "10     77\n",
      "14     73\n",
      "21     75\n",
      "32     80\n",
      "38     82\n",
      "55     77\n",
      "90     82\n",
      "109    77\n",
      "119    76\n",
      "121    73\n",
      "139    76\n",
      "153    74\n",
      "155    76\n",
      "159    79\n",
      "172    79\n",
      "180    75\n",
      "183    78\n",
      "207    74\n",
      "227    74\n",
      "231    80\n",
      "235    75\n",
      "241    76\n",
      "245    73\n",
      "253    82\n",
      "300    82\n",
      "340    79\n",
      "344    76\n",
      "378    73\n",
      "388    79\n",
      "471    78\n",
      "473    77\n",
      "492    76\n",
      "531    81\n",
      "577    82\n",
      "597    80\n",
      "612    76\n",
      "616    73\n",
      "627    75\n",
      "630    74\n",
      "657    77\n",
      "660    82\n",
      "662    73\n",
      "666    74\n",
      "693    78\n",
      "694    73\n",
      "Name: GS, dtype: int64\n",
      "Outliers in 'MP':--------------------------------------------------------\n",
      "Series([], Name: MP, dtype: float64)\n",
      "Outliers in 'FG':--------------------------------------------------------\n",
      "14     11.5\n",
      "33      8.6\n",
      "42      8.5\n",
      "81      9.4\n",
      "102     9.0\n",
      "109    10.3\n",
      "149     8.5\n",
      "153     8.8\n",
      "155     9.4\n",
      "171    11.5\n",
      "180    10.0\n",
      "183     9.1\n",
      "186    11.5\n",
      "207     9.7\n",
      "235    10.6\n",
      "314     9.7\n",
      "325     9.6\n",
      "340    10.4\n",
      "363     8.7\n",
      "370     9.0\n",
      "415     9.1\n",
      "454     9.1\n",
      "462     8.9\n",
      "471     8.6\n",
      "550     8.6\n",
      "597     8.5\n",
      "599     8.7\n",
      "630     9.1\n",
      "715     8.9\n",
      "Name: FG, dtype: float64\n",
      "Outliers in 'FGA':--------------------------------------------------------\n",
      "14     18.8\n",
      "30     19.2\n",
      "32     17.6\n",
      "33     18.5\n",
      "81     19.2\n",
      "91     17.5\n",
      "102    17.9\n",
      "109    21.4\n",
      "149    18.8\n",
      "153    19.5\n",
      "171    23.6\n",
      "180    19.1\n",
      "183    19.7\n",
      "186    21.8\n",
      "207    20.9\n",
      "235    19.8\n",
      "287    17.5\n",
      "314    19.5\n",
      "320    17.6\n",
      "325    17.9\n",
      "340    17.9\n",
      "363    18.8\n",
      "378    17.5\n",
      "415    20.3\n",
      "454    19.8\n",
      "462    18.9\n",
      "471    18.8\n",
      "550    18.2\n",
      "572    18.3\n",
      "602    18.2\n",
      "630    19.3\n",
      "637    18.0\n",
      "731    18.7\n",
      "Name: FGA, dtype: float64\n",
      "Outliers in 'FG%':--------------------------------------------------------\n",
      "20     0.000\n",
      "23     0.696\n",
      "43     0.725\n",
      "52     0.000\n",
      "78     0.680\n",
      "       ...  \n",
      "673    0.167\n",
      "695    0.125\n",
      "700    0.250\n",
      "712    0.654\n",
      "716    0.667\n",
      "Name: FG%, Length: 70, dtype: float64\n",
      "Outliers in '3P':--------------------------------------------------------\n",
      "30     3.2\n",
      "33     3.3\n",
      "153    4.8\n",
      "170    3.5\n",
      "171    4.1\n",
      "227    3.3\n",
      "405    3.2\n",
      "420    3.6\n",
      "454    3.3\n",
      "602    3.4\n",
      "641    3.5\n",
      "731    3.2\n",
      "Name: 3P, dtype: float64\n",
      "Outliers in '3PA':--------------------------------------------------------\n",
      "30      9.0\n",
      "33      8.6\n",
      "73      8.1\n",
      "153    11.8\n",
      "170     8.7\n",
      "171    10.6\n",
      "378     8.5\n",
      "405     8.0\n",
      "415     8.1\n",
      "420     8.4\n",
      "454     9.0\n",
      "602     8.8\n",
      "630     8.2\n",
      "641     9.0\n",
      "662     8.0\n",
      "731     8.7\n",
      "Name: 3PA, dtype: float64\n",
      "Outliers in '3P%':--------------------------------------------------------\n",
      "10     0.0\n",
      "11     0.0\n",
      "15     0.0\n",
      "20     0.0\n",
      "23     0.0\n",
      "      ... \n",
      "716    1.0\n",
      "722    0.0\n",
      "723    0.0\n",
      "730    0.0\n",
      "734    0.0\n",
      "Name: 3P%, Length: 109, dtype: float64\n",
      "Outliers in '2P':--------------------------------------------------------\n",
      "3       7.3\n",
      "10      6.7\n",
      "14     11.0\n",
      "22      7.7\n",
      "32      6.5\n",
      "42      7.0\n",
      "81      7.2\n",
      "102     6.9\n",
      "109     7.5\n",
      "149     6.5\n",
      "155     9.0\n",
      "159     7.3\n",
      "171     7.4\n",
      "180     7.8\n",
      "183     6.7\n",
      "186    10.2\n",
      "207     6.8\n",
      "235     9.3\n",
      "313     6.5\n",
      "314     6.7\n",
      "325     7.5\n",
      "340     9.4\n",
      "363     6.5\n",
      "370     6.9\n",
      "462     7.3\n",
      "550     6.9\n",
      "577     7.3\n",
      "590     7.8\n",
      "597     7.5\n",
      "598     7.2\n",
      "599     7.7\n",
      "666     6.5\n",
      "715     8.8\n",
      "Name: 2P, dtype: float64\n",
      "Outliers in '2PA':--------------------------------------------------------\n",
      "3      13.7\n",
      "14     17.1\n",
      "22     13.4\n",
      "32     13.2\n",
      "40     10.9\n",
      "42     11.6\n",
      "81     13.0\n",
      "91     11.0\n",
      "102    12.1\n",
      "109    14.6\n",
      "149    13.4\n",
      "155    15.5\n",
      "159    14.3\n",
      "171    13.0\n",
      "180    13.7\n",
      "183    13.0\n",
      "186    18.3\n",
      "207    13.1\n",
      "235    16.2\n",
      "313    12.1\n",
      "314    12.2\n",
      "320    12.1\n",
      "325    12.8\n",
      "340    14.9\n",
      "363    12.3\n",
      "370    12.1\n",
      "415    12.1\n",
      "462    13.2\n",
      "471    11.7\n",
      "472    10.9\n",
      "550    12.9\n",
      "577    12.0\n",
      "590    13.8\n",
      "597    12.8\n",
      "598    12.3\n",
      "599    13.3\n",
      "630    11.0\n",
      "637    12.0\n",
      "666    11.8\n",
      "690    11.2\n",
      "715    15.4\n",
      "Name: 2PA, dtype: float64\n",
      "Outliers in '2P%':--------------------------------------------------------\n",
      "20     0.000\n",
      "43     0.744\n",
      "44     0.313\n",
      "49     1.000\n",
      "52     0.000\n",
      "       ...  \n",
      "695    0.000\n",
      "709    0.276\n",
      "719    0.000\n",
      "720    0.000\n",
      "721    1.000\n",
      "Name: 2P%, Length: 77, dtype: float64\n",
      "Outliers in 'eFG%':--------------------------------------------------------\n",
      "11     0.261\n",
      "20     0.000\n",
      "43     0.725\n",
      "52     0.000\n",
      "79     0.000\n",
      "       ...  \n",
      "716    0.833\n",
      "718    0.717\n",
      "719    0.750\n",
      "721    0.737\n",
      "723    0.333\n",
      "Name: eFG%, Length: 69, dtype: float64\n",
      "Outliers in 'FT':--------------------------------------------------------\n",
      "3       4.1\n",
      "14      7.0\n",
      "30      4.1\n",
      "32      5.1\n",
      "40      3.6\n",
      "41      4.0\n",
      "81      6.0\n",
      "109     5.5\n",
      "117     6.6\n",
      "149     3.8\n",
      "153     4.0\n",
      "155     5.5\n",
      "159     6.6\n",
      "171     6.8\n",
      "180     4.8\n",
      "183     5.4\n",
      "186    10.2\n",
      "207     4.2\n",
      "220     3.5\n",
      "227     3.6\n",
      "235     7.6\n",
      "248     4.7\n",
      "253     3.5\n",
      "268     4.2\n",
      "313     3.8\n",
      "320     5.1\n",
      "325     4.3\n",
      "340     4.5\n",
      "366     3.5\n",
      "370     3.7\n",
      "378     6.5\n",
      "405     4.5\n",
      "415     4.7\n",
      "454     5.0\n",
      "462     5.8\n",
      "534     4.5\n",
      "550     5.1\n",
      "572     3.6\n",
      "577     3.6\n",
      "590     3.9\n",
      "592     4.1\n",
      "597     3.6\n",
      "598     4.3\n",
      "602     3.5\n",
      "630     5.6\n",
      "637     4.3\n",
      "651     4.1\n",
      "669     3.8\n",
      "690     4.1\n",
      "715     5.0\n",
      "731     6.4\n",
      "Name: FT, dtype: float64\n",
      "Outliers in 'FTA':--------------------------------------------------------\n",
      "3       5.5\n",
      "14     10.7\n",
      "30      4.7\n",
      "32      7.0\n",
      "40      5.0\n",
      "41      4.8\n",
      "42      5.2\n",
      "81      6.7\n",
      "102     4.3\n",
      "109     6.5\n",
      "117     7.7\n",
      "149     4.4\n",
      "153     4.4\n",
      "155     6.8\n",
      "159     7.7\n",
      "171     8.7\n",
      "180     5.6\n",
      "183     6.4\n",
      "186    11.6\n",
      "207     5.7\n",
      "235     8.7\n",
      "241     5.1\n",
      "248     5.8\n",
      "253     4.3\n",
      "268     4.8\n",
      "313     4.8\n",
      "320     6.3\n",
      "325     5.7\n",
      "340     5.5\n",
      "378     7.0\n",
      "405     5.0\n",
      "415     5.4\n",
      "454     5.8\n",
      "462     7.1\n",
      "534     5.3\n",
      "550     6.6\n",
      "572     4.3\n",
      "577     5.1\n",
      "590     5.6\n",
      "592     4.7\n",
      "597     5.0\n",
      "598     5.7\n",
      "630     6.7\n",
      "637     5.1\n",
      "651     4.7\n",
      "669     4.4\n",
      "690     5.2\n",
      "715     7.1\n",
      "731     7.5\n",
      "Name: FTA, dtype: float64\n",
      "Outliers in 'FT%':--------------------------------------------------------\n",
      "15     0.000\n",
      "20     0.000\n",
      "23     0.231\n",
      "44     0.250\n",
      "49     0.000\n",
      "       ...  \n",
      "719    0.000\n",
      "720    0.000\n",
      "721    0.000\n",
      "723    0.000\n",
      "730    0.333\n",
      "Name: FT%, Length: 75, dtype: float64\n",
      "Outliers in 'ORB':--------------------------------------------------------\n",
      "0      2.6\n",
      "2      2.9\n",
      "10     3.2\n",
      "14     2.7\n",
      "22     3.2\n",
      "25     2.6\n",
      "27     3.5\n",
      "39     2.4\n",
      "64     2.7\n",
      "121    4.6\n",
      "134    2.7\n",
      "155    3.1\n",
      "176    3.4\n",
      "181    3.1\n",
      "186    2.4\n",
      "215    2.6\n",
      "216    2.9\n",
      "241    3.8\n",
      "244    2.8\n",
      "245    2.4\n",
      "277    3.3\n",
      "329    2.6\n",
      "331    2.8\n",
      "340    2.8\n",
      "353    2.6\n",
      "380    2.5\n",
      "386    2.5\n",
      "492    2.9\n",
      "501    2.6\n",
      "524    2.9\n",
      "554    2.4\n",
      "557    2.6\n",
      "561    4.6\n",
      "577    3.6\n",
      "590    2.9\n",
      "594    2.6\n",
      "639    2.4\n",
      "666    2.8\n",
      "710    4.0\n",
      "734    2.9\n",
      "Name: ORB, dtype: float64\n",
      "Outliers in 'DRB':--------------------------------------------------------\n",
      "3       8.1\n",
      "10      7.4\n",
      "14      8.8\n",
      "22      7.9\n",
      "134     7.2\n",
      "155     9.5\n",
      "171     8.4\n",
      "181     8.5\n",
      "186     8.6\n",
      "241     9.2\n",
      "276     6.8\n",
      "335     7.4\n",
      "340     9.5\n",
      "455     7.1\n",
      "492     8.1\n",
      "550     7.0\n",
      "577    10.1\n",
      "630     7.2\n",
      "651     6.8\n",
      "666     7.8\n",
      "690     8.4\n",
      "Name: DRB, dtype: float64\n",
      "Outliers in 'TRB':--------------------------------------------------------\n",
      "3      10.4\n",
      "10     10.5\n",
      "14     11.5\n",
      "22     11.1\n",
      "121    10.6\n",
      "134     9.9\n",
      "137     8.5\n",
      "155    12.6\n",
      "171     9.2\n",
      "176     9.0\n",
      "181    11.6\n",
      "186    11.0\n",
      "241    12.9\n",
      "335     8.7\n",
      "340    12.4\n",
      "455     9.4\n",
      "492    11.0\n",
      "524     8.6\n",
      "550     9.2\n",
      "561     8.5\n",
      "577    13.7\n",
      "590     9.3\n",
      "660     8.8\n",
      "666    10.5\n",
      "690    10.6\n",
      "710     9.7\n",
      "734     9.2\n",
      "Name: TRB, dtype: float64\n",
      "Outliers in 'AST':--------------------------------------------------------\n",
      "14      6.5\n",
      "30      8.0\n",
      "33      5.5\n",
      "39      6.1\n",
      "81      6.9\n",
      "94      5.5\n",
      "109     6.7\n",
      "139     5.9\n",
      "149     7.5\n",
      "168     6.0\n",
      "171     9.8\n",
      "186     5.6\n",
      "207     5.6\n",
      "222     6.5\n",
      "235     6.2\n",
      "252     6.0\n",
      "265    10.9\n",
      "268     8.5\n",
      "313     5.7\n",
      "325     8.3\n",
      "340     9.0\n",
      "346     6.2\n",
      "347     7.3\n",
      "378     7.0\n",
      "415     6.2\n",
      "421     5.5\n",
      "438     6.2\n",
      "454     6.1\n",
      "462     8.1\n",
      "471     6.4\n",
      "472     6.5\n",
      "509     6.8\n",
      "547     6.8\n",
      "552     5.5\n",
      "571     5.6\n",
      "572     6.6\n",
      "575     6.3\n",
      "577     8.2\n",
      "586     6.1\n",
      "587     6.1\n",
      "588     6.0\n",
      "600     5.7\n",
      "602     5.5\n",
      "662     8.1\n",
      "731    10.8\n",
      "Name: AST, dtype: float64\n",
      "Outliers in 'STL':--------------------------------------------------------\n",
      "19     1.7\n",
      "30     1.8\n",
      "125    1.7\n",
      "144    2.0\n",
      "207    2.0\n",
      "235    2.0\n",
      "370    1.6\n",
      "403    1.7\n",
      "430    1.6\n",
      "435    1.7\n",
      "454    1.8\n",
      "521    1.7\n",
      "608    2.1\n",
      "644    1.7\n",
      "Name: STL, dtype: float64\n",
      "Outliers in 'BLK':--------------------------------------------------------\n",
      "39     1.5\n",
      "49     1.3\n",
      "53     1.2\n",
      "65     1.2\n",
      "121    1.5\n",
      "134    2.1\n",
      "155    2.3\n",
      "180    1.2\n",
      "186    1.7\n",
      "215    2.1\n",
      "216    2.2\n",
      "217    1.9\n",
      "241    2.1\n",
      "261    1.6\n",
      "300    2.3\n",
      "315    1.2\n",
      "320    1.6\n",
      "331    1.2\n",
      "353    2.4\n",
      "380    1.4\n",
      "388    2.4\n",
      "455    1.4\n",
      "524    1.5\n",
      "534    1.9\n",
      "657    1.9\n",
      "690    3.6\n",
      "694    1.2\n",
      "712    1.2\n",
      "734    1.2\n",
      "Name: BLK, dtype: float64\n",
      "Outliers in 'TOV':--------------------------------------------------------\n",
      "14     3.4\n",
      "30     3.8\n",
      "32     3.1\n",
      "33     2.7\n",
      "39     2.8\n",
      "133    2.7\n",
      "149    3.4\n",
      "153    2.8\n",
      "171    4.0\n",
      "180    3.3\n",
      "183    3.1\n",
      "186    3.8\n",
      "222    3.1\n",
      "285    3.4\n",
      "325    3.5\n",
      "340    3.0\n",
      "363    2.7\n",
      "454    2.8\n",
      "462    3.0\n",
      "521    2.7\n",
      "550    3.5\n",
      "577    3.3\n",
      "602    2.7\n",
      "608    3.1\n",
      "651    2.9\n",
      "690    3.7\n",
      "715    2.8\n",
      "731    4.4\n",
      "Name: TOV, dtype: float64\n",
      "Outliers in 'PF':--------------------------------------------------------\n",
      "Series([], Name: PF, dtype: float64)\n",
      "Outliers in 'PTS':--------------------------------------------------------\n",
      "14     30.4\n",
      "30     23.9\n",
      "32     22.6\n",
      "33     23.7\n",
      "81     27.1\n",
      "102    23.0\n",
      "109    28.7\n",
      "149    22.7\n",
      "153    26.4\n",
      "155    24.7\n",
      "159    24.0\n",
      "171    33.9\n",
      "180    27.1\n",
      "183    25.9\n",
      "186    34.7\n",
      "207    26.6\n",
      "227    22.6\n",
      "235    30.1\n",
      "314    25.6\n",
      "325    25.7\n",
      "340    26.4\n",
      "370    23.7\n",
      "378    24.3\n",
      "405    23.2\n",
      "415    25.9\n",
      "454    26.6\n",
      "462    25.1\n",
      "550    24.0\n",
      "572    23.2\n",
      "602    22.6\n",
      "630    26.9\n",
      "715    22.9\n",
      "731    25.7\n",
      "Name: PTS, dtype: float64\n"
     ]
    }
   ],
   "source": [
    "def find_outliers(column):\n",
    "    Q1 = column.quantile(0.25)\n",
    "    Q3 = column.quantile(0.75)\n",
    "    IQR = Q3 - Q1\n",
    "    lower_bound = Q1 - 1.5 * IQR\n",
    "    upper_bound = Q3 + 1.5 * IQR\n",
    "    return column[(column < lower_bound) | (column > upper_bound)]\n",
    "for col in df.select_dtypes(include=['float64', 'int64']).columns:\n",
    "    outliers = find_outliers(df[col])\n",
    "    print(f\"Outliers in '{col}':--------------------------------------------------------\")\n",
    "    print(outliers)\n",
    "df.to_csv('filtered.csv')"
   ]
  },
  {
   "cell_type": "markdown",
   "id": "6iWSlxNoXMIW",
   "metadata": {
    "id": "6iWSlxNoXMIW"
   },
   "source": [
    "# Visualization of data"
   ]
  },
  {
   "cell_type": "markdown",
   "id": "dd34041a-be9c-4336-bd8b-b23d40da2a4a",
   "metadata": {
    "jp-MarkdownHeadingCollapsed": true
   },
   "source": [
    "## Succsed goals efficiency vs goal attempts for each team"
   ]
  },
  {
   "cell_type": "code",
   "execution_count": 30,
   "id": "036f69f0-b8b3-4500-b5b4-90833d275ad0",
   "metadata": {
    "colab": {
     "base_uri": "https://localhost:8080/",
     "height": 390
    },
    "executionInfo": {
     "elapsed": 1728,
     "status": "ok",
     "timestamp": 1727355129062,
     "user": {
      "displayName": "Samvel Arakelyan",
      "userId": "03624221637319618173"
     },
     "user_tz": -240
    },
    "id": "036f69f0-b8b3-4500-b5b4-90833d275ad0",
    "outputId": "81c377f7-fbe6-44ef-9d6b-9740808d21b5"
   },
   "outputs": [
    {
     "data": {
      "text/plain": [
       "<matplotlib.legend.Legend at 0x705ee5f68170>"
      ]
     },
     "execution_count": 30,
     "metadata": {},
     "output_type": "execute_result"
    },
    {
     "data": {
      "image/png": "[encoded data removed]",
      "text/plain": [
       "<Figure size 2000x500 with 1 Axes>"
      ]
     },
     "metadata": {},
     "output_type": "display_data"
    }
   ],
   "source": [
    "fga_sum = df.groupby('Tm')['FGA'].sum()\n",
    "fg_sum = df.groupby('Tm')['FG'].sum()\n",
    "fig, ax = plt.subplots(figsize=(20, 5))\n",
    "plt.title(\"Succsed goals efficiency vs goal attempts\",fontsize=16, fontweight='bold')\n",
    "bar_width = 0.35\n",
    "x = np.arange(fg_sum.shape[0])\n",
    "\n",
    "ax.bar(x-bar_width/2, fg_sum, width=bar_width,label=\"Succsed goals\")\n",
    "ax.bar(x+bar_width/2,fga_sum,width=bar_width, label='Goals attempts')\n",
    "ax.set_xticks(x)\n",
    "ax.set_xticklabels(fg_sum.index, rotation=0, fontsize=8, fontweight='bold')\n",
    "ax.legend(fontsize = 15)"
   ]
  },
  {
   "cell_type": "markdown",
   "id": "pSgY3I4mY_uK",
   "metadata": {
    "id": "pSgY3I4mY_uK"
   },
   "source": [
    "The bar chart visualizes the efficiency of teams in converting their field goal attempts into successful goals:\\\n",
    "The two bars for each team provide a direct visual comparison between the total successful field goals (FG) and total field goal attempts (FGA). This helps to identify teams that are effective at scoring and the teams which need to work on their accuracy"
   ]
  },
  {
   "cell_type": "markdown",
   "id": "6598028d-8d0e-422e-ab81-1025897b71bf",
   "metadata": {},
   "source": [
    "-**CONCLUSION**\\\n",
    "You can use this visualization to determine which teams are the most efficient scorers or those who take many shots but convert fewer into points."
   ]
  },
  {
   "cell_type": "markdown",
   "id": "2d3b07ec-e09f-4788-9e2e-7b958131765e",
   "metadata": {
    "jp-MarkdownHeadingCollapsed": true
   },
   "source": [
    "## Average points based on age"
   ]
  },
  {
   "cell_type": "code",
   "execution_count": 31,
   "id": "2FFLeOjhgxnM",
   "metadata": {
    "colab": {
     "base_uri": "https://localhost:8080/",
     "height": 505
    },
    "executionInfo": {
     "elapsed": 844,
     "status": "ok",
     "timestamp": 1727211726789,
     "user": {
      "displayName": "Samvel Arakelyan",
      "userId": "03624221637319618173"
     },
     "user_tz": -240
    },
    "id": "2FFLeOjhgxnM",
    "outputId": "a35636b7-58e2-41be-9f06-bf0312c113f1"
   },
   "outputs": [
    {
     "data": {
      "image/png": "[encoded data removed]",
      "text/plain": [
       "<Figure size 1200x500 with 1 Axes>"
      ]
     },
     "metadata": {},
     "output_type": "display_data"
    }
   ],
   "source": [
    "age_pts = df.groupby('Age')['PTS'].mean()\n",
    "fig, ax = plt.subplots(figsize=(12, 5))\n",
    "age_pts.plot(kind='bar', color='#fd4b25', ax=ax)\n",
    "\n",
    "plt.title('Average points based on age of players', fontsize=16, fontweight='bold')\n",
    "plt.xlabel('Age', fontsize=14, fontweight='bold')\n",
    "plt.ylabel('Mean points', fontsize=14, fontweight='bold')\n",
    "\n",
    "plt.xticks(rotation=0, ha='right', fontsize=8)\n",
    "plt.yticks(fontsize=12)\n",
    "\n",
    "ax.grid(True, which='major', axis='y', linestyle='--', alpha=0.7)\n",
    "\n",
    "plt.tight_layout()\n",
    "plt.show()"
   ]
  },
  {
   "cell_type": "markdown",
   "id": "wEzSHdsMiVFf",
   "metadata": {
    "id": "wEzSHdsMiVFf"
   },
   "source": [
    "The bar chart illustrates how average points scored by basketball players vary with age:\\\n",
    "Generally, you might expect younger players to show rapid improvement as they gain experience, while older players may either maintain or decline in performance depending on their physical condition and playing style.\\\n",
    "If certain age groups show unexpectedly high or low averages, it could indicate unique player attributes."
   ]
  },
  {
   "cell_type": "markdown",
   "id": "6ba215b6-8775-40a0-bdb4-062339e1be37",
   "metadata": {},
   "source": [
    "-**CONCLUSION**\\\n",
    "This visualization provides a useful overview of how player age correlates with scoring ability, allowing for analysis of player development and decline."
   ]
  },
  {
   "cell_type": "code",
   "execution_count": 32,
   "id": "GuvhfexRkTOV",
   "metadata": {
    "colab": {
     "base_uri": "https://localhost:8080/",
     "height": 147
    },
    "executionInfo": {
     "elapsed": 9,
     "status": "ok",
     "timestamp": 1727211727754,
     "user": {
      "displayName": "Samvel Arakelyan",
      "userId": "03624221637319618173"
     },
     "user_tz": -240
    },
    "id": "GuvhfexRkTOV",
    "outputId": "b810b93b-c20a-4dcd-8096-fe7389c5be53"
   },
   "outputs": [
    {
     "data": {
      "text/html": [
       "<div>\n",
       "<style scoped>\n",
       "    .dataframe tbody tr th:only-of-type {\n",
       "        vertical-align: middle;\n",
       "    }\n",
       "\n",
       "    .dataframe tbody tr th {\n",
       "        vertical-align: top;\n",
       "    }\n",
       "\n",
       "    .dataframe thead th {\n",
       "        text-align: right;\n",
       "    }\n",
       "</style>\n",
       "<table border=\"1\" class=\"dataframe\">\n",
       "  <thead>\n",
       "    <tr style=\"text-align: right;\">\n",
       "      <th></th>\n",
       "      <th>Rk</th>\n",
       "      <th>Player</th>\n",
       "      <th>Pos</th>\n",
       "      <th>Age</th>\n",
       "      <th>Tm</th>\n",
       "      <th>G</th>\n",
       "      <th>GS</th>\n",
       "      <th>MP</th>\n",
       "      <th>FG</th>\n",
       "      <th>FGA</th>\n",
       "      <th>...</th>\n",
       "      <th>FT%</th>\n",
       "      <th>ORB</th>\n",
       "      <th>DRB</th>\n",
       "      <th>TRB</th>\n",
       "      <th>AST</th>\n",
       "      <th>STL</th>\n",
       "      <th>BLK</th>\n",
       "      <th>TOV</th>\n",
       "      <th>PF</th>\n",
       "      <th>PTS</th>\n",
       "    </tr>\n",
       "  </thead>\n",
       "  <tbody>\n",
       "    <tr>\n",
       "      <th>325</th>\n",
       "      <td>250</td>\n",
       "      <td>LeBron James</td>\n",
       "      <td>PF</td>\n",
       "      <td>39</td>\n",
       "      <td>LAL</td>\n",
       "      <td>71</td>\n",
       "      <td>71</td>\n",
       "      <td>35.3</td>\n",
       "      <td>9.6</td>\n",
       "      <td>17.9</td>\n",
       "      <td>...</td>\n",
       "      <td>0.75</td>\n",
       "      <td>0.9</td>\n",
       "      <td>6.4</td>\n",
       "      <td>7.3</td>\n",
       "      <td>8.3</td>\n",
       "      <td>1.3</td>\n",
       "      <td>0.5</td>\n",
       "      <td>3.5</td>\n",
       "      <td>1.1</td>\n",
       "      <td>25.7</td>\n",
       "    </tr>\n",
       "  </tbody>\n",
       "</table>\n",
       "<p>1 rows × 30 columns</p>\n",
       "</div>"
      ],
      "text/plain": [
       "      Rk        Player Pos  Age   Tm   G  GS    MP   FG   FGA  ...   FT%  ORB  \\\n",
       "325  250  LeBron James  PF   39  LAL  71  71  35.3  9.6  17.9  ...  0.75  0.9   \n",
       "\n",
       "     DRB  TRB  AST  STL  BLK  TOV   PF   PTS  \n",
       "325  6.4  7.3  8.3  1.3  0.5  3.5  1.1  25.7  \n",
       "\n",
       "[1 rows x 30 columns]"
      ]
     },
     "execution_count": 32,
     "metadata": {},
     "output_type": "execute_result"
    }
   ],
   "source": [
    "df[df['Age'] == 39]"
   ]
  },
  {
   "cell_type": "markdown",
   "id": "6ad6204a-c716-4b32-89cd-76404973c7f3",
   "metadata": {
    "jp-MarkdownHeadingCollapsed": true
   },
   "source": [
    "## Players average statistcs based on position"
   ]
  },
  {
   "cell_type": "code",
   "execution_count": 33,
   "id": "SmGMRy9HyBvW",
   "metadata": {
    "colab": {
     "base_uri": "https://localhost:8080/",
     "height": 505
    },
    "executionInfo": {
     "elapsed": 1242,
     "status": "ok",
     "timestamp": 1727211993825,
     "user": {
      "displayName": "Samvel Arakelyan",
      "userId": "03624221637319618173"
     },
     "user_tz": -240
    },
    "id": "SmGMRy9HyBvW",
    "outputId": "d21a9cd4-b6da-459b-8c56-fae6af2eb2db",
    "scrolled": true
   },
   "outputs": [
    {
     "data": {
      "image/png": "[encoded data removed]",
      "text/plain": [
       "<Figure size 2000x500 with 1 Axes>"
      ]
     },
     "metadata": {},
     "output_type": "display_data"
    }
   ],
   "source": [
    "average_stats = df.groupby('Pos')[['PTS', 'TRB', 'AST']].mean().reset_index()\n",
    "positions = average_stats['Pos']\n",
    "pts = average_stats['PTS']\n",
    "trb = average_stats['TRB']\n",
    "ast = average_stats['AST']\n",
    "\n",
    "bar_width = 0.2\n",
    "r1 = range(len(positions))  \n",
    "r2 = [x + bar_width for x in r1]  \n",
    "r3 = [x + bar_width for x in r2]  \n",
    "\n",
    "plt.figure(figsize=(20, 5))\n",
    "\n",
    "plt.bar(r1, pts, color='b', width=bar_width, edgecolor='grey', label='PTS')\n",
    "plt.bar(r2, trb, color='r', width=bar_width, edgecolor='grey', label='TRB')\n",
    "plt.bar(r3, ast, color='c', width=bar_width, edgecolor='grey', label='AST')\n",
    "\n",
    "plt.title('Plyers mean statistc based on position', fontsize=16, fontweight='bold')\n",
    "plt.ylabel(\"Mean values\",fontsize=16, fontweight='bold')\n",
    "plt.xticks([r + bar_width for r in range(len(positions))], positions, fontsize=16, fontweight='bold')\n",
    "plt.legend(title='statistics',fontsize=20)\n",
    "\n",
    "plt.tight_layout()\n",
    "plt.show()"
   ]
  },
  {
   "cell_type": "markdown",
   "id": "c0d879b8-4176-4703-9480-9b22fd58818a",
   "metadata": {},
   "source": [
    "The grouped bar chart visualizes the average statistics for points (PTS), total rebounds (TRB), and assists (AST) for players across different positions.\\\n",
    "-The chart allows for easy comparison of average performance metrics across different player positions, such as Guards (PG, SG), Forwards (SF, PF), and Centers (C).\\\n",
    "-Typically, you may observe that Centers and Power Forwards have higher average rebounds (TRB), while Guards might show higher average assists (AST)."
   ]
  },
  {
   "cell_type": "markdown",
   "id": "c72c5b06-f83a-4b6b-912f-72db3ef3ef43",
   "metadata": {},
   "source": [
    "-**CONCLUSION**\\\n",
    "By examining this chart, you can understand the typical contributions expected from players in different positions, revealing how certain positions are specialized  in specific statistical categories."
   ]
  },
  {
   "cell_type": "markdown",
   "id": "a3727a1d-606e-4fb7-8e6f-50e30ee46309",
   "metadata": {
    "jp-MarkdownHeadingCollapsed": true
   },
   "source": [
    "## Succsed free throws efficiency vs free throws attempts for each team"
   ]
  },
  {
   "cell_type": "code",
   "execution_count": 34,
   "id": "565e68e8-1ddf-48e2-91ee-ee0f49e0f6f0",
   "metadata": {
    "colab": {
     "base_uri": "https://localhost:8080/",
     "height": 189
    },
    "executionInfo": {
     "elapsed": 701,
     "status": "ok",
     "timestamp": 1727211724468,
     "user": {
      "displayName": "Samvel Arakelyan",
      "userId": "03624221637319618173"
     },
     "user_tz": -240
    },
    "id": "565e68e8-1ddf-48e2-91ee-ee0f49e0f6f0",
    "outputId": "36cd5aeb-7fc9-446c-baa8-0866eedd2324"
   },
   "outputs": [
    {
     "data": {
      "text/plain": [
       "<matplotlib.legend.Legend at 0x705ea64052e0>"
      ]
     },
     "execution_count": 34,
     "metadata": {},
     "output_type": "execute_result"
    },
    {
     "data": {
      "image/png": "[encoded data removed]",
      "text/plain": [
       "<Figure size 2000x500 with 1 Axes>"
      ]
     },
     "metadata": {},
     "output_type": "display_data"
    }
   ],
   "source": [
    "ft_sum = df.groupby('Tm')['FT'].sum()\n",
    "fta_sum = df.groupby('Tm')['FTA'].sum()\n",
    "fig, ax = plt.subplots(figsize=(20, 5))\n",
    "bar_width = 0.35\n",
    "x = np.arange(fg_sum.shape[0])\n",
    "\n",
    "ax.bar(x-bar_width/2, ft_sum, width=bar_width,label=\"Succsed free throws\", color='#27cae4')\n",
    "ax.bar(x+bar_width/2,fta_sum,width=bar_width, label='Free throw', color='#e06868')\n",
    "ax.set_xticks(x)\n",
    "ax.set_xticklabels(fg_sum.index, rotation=45)\n",
    "ax.legend(fontsize = 20)"
   ]
  },
  {
   "cell_type": "markdown",
   "id": "334a5496-5605-4182-879c-f313fea899d2",
   "metadata": {},
   "source": [
    "The two bars for each team allow for a direct comparison between the number of successful free throws and total free throw attempts:\\\n",
    "This comparison can indicate which teams are more effective at converting their free throw attempts into points.\\\n",
    "Teams with a large difference between the two bars may show low effectiveness in converting attempts into successful free throws and possibly suggesting the need for improvement in shooting skills."
   ]
  },
  {
   "cell_type": "markdown",
   "id": "4fca4c6c-1c06-463e-84bf-226b5fb232cf",
   "metadata": {},
   "source": [
    "-**CONCLUSION**\\\n",
    "This chart allows for both efficiency and volume comparisons of free throws across different teams, highlighting which teams are stronger or weaker in this aspect of the game."
   ]
  },
  {
   "cell_type": "markdown",
   "id": "fa2cca8f-6051-45d8-97e3-1274b0cf1211",
   "metadata": {
    "jp-MarkdownHeadingCollapsed": true
   },
   "source": [
    "## Distribution of points scored "
   ]
  },
  {
   "cell_type": "code",
   "execution_count": 35,
   "id": "1edd21ee-bb6b-487d-ac30-fbaecace6ce4",
   "metadata": {},
   "outputs": [
    {
     "data": {
      "image/png": "[encoded data removed]",
      "text/plain": [
       "<Figure size 2000x600 with 1 Axes>"
      ]
     },
     "metadata": {},
     "output_type": "display_data"
    }
   ],
   "source": [
    "plt.figure(figsize=(20, 6))\n",
    "plt.hist(df['PTS'], bins=20, color='blue', edgecolor='black')\n",
    "plt.title('Distribution of Points Scored (PTS)', fontsize=16, fontweight='bold')\n",
    "plt.xlabel('Points Scored (PTS)',fontsize=16, fontweight='bold')\n",
    "plt.ylabel('Frequency',fontsize=16, fontweight='bold')\n",
    "plt.show()"
   ]
  },
  {
   "cell_type": "markdown",
   "id": "1c04c746-93ae-4cf0-883b-f9e91883bffd",
   "metadata": {},
   "source": [
    "The histogram visualizes the frequency distribution of points scored by players:\\\n",
    "The shape of the histogram can indicate whether scoring is concentrated around certain values or is more evenly spread out.\\\n",
    "Bars at the far right of the histogram could indicate a few high-scoring players, showing that while most players may score fewer points, a select few score significantly higher."
   ]
  },
  {
   "cell_type": "markdown",
   "id": "4ad71349-d757-4f72-a150-4ab51e650c1f",
   "metadata": {},
   "source": [
    "-**CONCLUSION**\\\n",
    "This histogram will give a clear picture of how points scored are distributed among the players and help identify common scoring ranges, as well as any potential outliers."
   ]
  },
  {
   "cell_type": "markdown",
   "id": "0631f2ae-1a82-42e5-ae62-23d671bfe90e",
   "metadata": {
    "jp-MarkdownHeadingCollapsed": true
   },
   "source": [
    "## Total Rebounds by Position"
   ]
  },
  {
   "cell_type": "code",
   "execution_count": 36,
   "id": "efa7b215-c2a3-4e76-b150-4ae6b2506631",
   "metadata": {},
   "outputs": [
    {
     "data": {
      "image/png": "[encoded data removed]",
      "text/plain": [
       "<Figure size 1500x500 with 1 Axes>"
      ]
     },
     "metadata": {},
     "output_type": "display_data"
    }
   ],
   "source": [
    "position_groups = df.groupby('Pos')['TRB'].sum()\n",
    "plt.figure(figsize=(15, 5))\n",
    "plt.bar(position_groups.index, position_groups.values, color='red')\n",
    "plt.title('Total Rebounds (TRB) by Position',fontsize=16, fontweight='bold')\n",
    "plt.ylabel('Total Rebounds (TRB)', fontsize=16, fontweight='bold')\n",
    "plt.xticks(rotation=0, fontsize=16, fontweight='bold')\n",
    "plt.show()"
   ]
  },
  {
   "cell_type": "markdown",
   "id": "1900a9fa-edba-4262-b328-d6cf129b4d16",
   "metadata": {},
   "source": [
    "**The bar chart visualizes how total rebounds are distributed across different player positions, such as Guards, Forwards, and Centers. In general:**\\\n",
    "-Centers (C) and Power Forwards (PF) are expected to have the highest total rebounds due to their proximity to the basket and primary role in rebounding.\\\n",
    "-Small Forwards (SF) might contribute moderately to rebounds.\\\n",
    "-Guards (PG, SG) usually have the lowest total rebounds, as they typically play further from the basket and focus on ball-handling and scoring.\\\n",
    "-This visualization helps highlight the differences in how player positions contribute to rebounding based on their on-court roles."
   ]
  },
  {
   "cell_type": "markdown",
   "id": "f936950c-91b8-498c-9c5f-0426eddc0b08",
   "metadata": {},
   "source": [
    "-**CONCLUSION**\\\n",
    "This chart will help you understand the rebounding contributions based on player positions, highlighting the roles that different positions play in this key statistic."
   ]
  },
  {
   "cell_type": "markdown",
   "id": "ab9c96b9-55ef-43eb-9fb8-13312b3a4c7b",
   "metadata": {
    "jp-MarkdownHeadingCollapsed": true
   },
   "source": [
    "## Minutes played vs points"
   ]
  },
  {
   "cell_type": "code",
   "execution_count": 37,
   "id": "59f44d82-f0dc-4e57-b58a-a7c4584f30bc",
   "metadata": {},
   "outputs": [
    {
     "data": {
      "image/png": "[encoded data removed]",
      "text/plain": [
       "<Figure size 2000x600 with 1 Axes>"
      ]
     },
     "metadata": {},
     "output_type": "display_data"
    }
   ],
   "source": [
    "plt.figure(figsize=(20, 6))\n",
    "plt.bar(df['MP'], df['PTS'], color='green')\n",
    "plt.title('Minutes Played vs Points', fontsize=16, fontweight='bold')\n",
    "plt.xlabel('Minutes Played (MP)', fontsize=16, fontweight='bold')\n",
    "plt.ylabel('Points (PTS)', fontsize=16, fontweight='bold')\n",
    "plt.show()"
   ]
  },
  {
   "cell_type": "markdown",
   "id": "ebcaae24-7a8e-4941-8d32-3308c535eb30",
   "metadata": {},
   "source": [
    "The plot shows the relationship between the time a player spends on the court and the points they score. Typically, as the minutes played increase, players tend to score more points, although there can be some outliers (players who score efficiently in fewer minutes or those who play longer but don't score much)."
   ]
  },
  {
   "cell_type": "markdown",
   "id": "e460d3e8-52c8-4dcc-be17-60ac5503a2f8",
   "metadata": {},
   "source": [
    "-**CONCLUSION**\\\n",
    "This scatter plot will help you see how points scored vary with minutes played more clearly, allowing for a better understanding of player performance."
   ]
  },
  {
   "cell_type": "markdown",
   "id": "cd665eb6-c14f-4aa2-a058-fbe4cb4494fd",
   "metadata": {
    "jp-MarkdownHeadingCollapsed": true
   },
   "source": [
    "## Statistics of Top 10 players"
   ]
  },
  {
   "cell_type": "code",
   "execution_count": 40,
   "id": "d3426a21-5a4a-4ce4-a673-eba3e979fe8c",
   "metadata": {
    "id": "d3426a21-5a4a-4ce4-a673-eba3e979fe8c",
    "outputId": "ad2b469b-df83-4be5-de64-8d3adcc938bb"
   },
   "outputs": [
    {
     "data": {
      "image/png": "[encoded data removed]",
      "text/plain": [
       "<Figure size 2000x500 with 1 Axes>"
      ]
     },
     "metadata": {},
     "output_type": "display_data"
    }
   ],
   "source": [
    "top_players_stats = df.groupby('Player')[['PTS', 'AST', 'TRB']].sum().nlargest(10, 'PTS')\n",
    "\n",
    "top_players_stats.plot(kind='bar', figsize=(20, 5))\n",
    "plt.title('Statistic of top 10 players', fontsize=16, fontweight='bold')\n",
    "plt.ylabel('points', fontsize=16, fontweight='bold')\n",
    "plt.xticks(rotation=0, fontsize=8, fontweight='bold')\n",
    "plt.legend(title='Stats')\n",
    "plt.show()"
   ]
  },
  {
   "cell_type": "markdown",
   "id": "836bfc13-026b-453f-a579-bdb09a4a116d",
   "metadata": {},
   "source": [
    "The chart clearly identifies the top 10 players based on their scoring ability. This allows for an immediate understanding of who the most effective scorers are in the dataset."
   ]
  },
  {
   "cell_type": "markdown",
   "id": "4885ba1c-0052-4e8c-aa4f-c115809f1ee1",
   "metadata": {},
   "source": [
    "-**CONCLUSION**\\\n",
    "This visualization effectively shows the high performances in the league and provides insights into the multifaceted roles these players have."
   ]
  }
 ],
 "metadata": {
  "colab": {
   "collapsed_sections": [
    "ee443168-0bb4-47b0-a292-3de37c16e6a9",
    "888b09df-55c2-4ab6-a099-30a14b26dfe5"
   ],
   "provenance": []
  },
  "kernelspec": {
   "display_name": "Python 3 (ipykernel)",
   "language": "python",
   "name": "python3"
  },
  "language_info": {
   "codemirror_mode": {
    "name": "ipython",
    "version": 3
   },
   "file_extension": ".py",
   "mimetype": "text/x-python",
   "name": "python",
   "nbconvert_exporter": "python",
   "pygments_lexer": "ipython3",
   "version": "3.12.5"
  }
 },
 "nbformat": 4,
 "nbformat_minor": 5
}
